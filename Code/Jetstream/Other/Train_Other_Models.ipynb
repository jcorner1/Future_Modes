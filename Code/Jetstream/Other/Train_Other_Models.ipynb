{
 "cells": [
  {
   "cell_type": "code",
   "execution_count": null,
   "id": "5b7358c8-515e-484f-b7f8-2485ec210d6c",
   "metadata": {},
   "outputs": [],
   "source": []
  },
  {
   "cell_type": "code",
   "execution_count": 2,
   "id": "5bcff09f-0876-41f8-8121-6b93af035b22",
   "metadata": {},
   "outputs": [
    {
     "name": "stdout",
     "output_type": "stream",
     "text": [
      "x_train shape: (4560, 136, 136, 1)\n",
      "4560 train samples\n",
      "309 validate samples\n",
      "920 test samples\n"
     ]
    }
   ],
   "source": [
    "#Based on examples from the Keras documentation\n",
    "import numpy as np\n",
    "np.random.seed(42)\n",
    "from tensorflow import keras\n",
    "from tensorflow.keras import layers\n",
    "import pickle\n",
    "\n",
    "%matplotlib inline\n",
    "import numpy as np\n",
    "import pandas as pd\n",
    "import xarray as xr\n",
    "import matplotlib.pyplot as plt\n",
    "from glob import glob\n",
    "from os.path import join, expanduser\n",
    "from sklearn.preprocessing import StandardScaler\n",
    "from tensorflow.keras.preprocessing.image import ImageDataGenerator\n",
    "from ipywidgets import interact\n",
    "import ipywidgets as widgets\n",
    "from keras.models import Model, save_model, load_model\n",
    "from keras.layers import Dense, Activation, Conv2D, Input, AveragePooling2D, MaxPooling2D, Flatten, LeakyReLU, Dropout\n",
    "from keras.layers import SpatialDropout2D\n",
    "from tensorflow.keras.optimizers import Adam, SGD\n",
    "from keras.regularizers import l2\n",
    "import keras.backend as K\n",
    "from scipy.ndimage import gaussian_filter\n",
    "from sklearn.metrics import mean_squared_error, roc_auc_score\n",
    "\n",
    "\n",
    "num_classes = 6\n",
    "input_shape = (136, 136, 1)\n",
    "\n",
    "with open(\"/share/jcorner_data/pkls/1996_2011_train.pkl\", \"rb\") as f:\n",
    "    (x_train, y_train) = pickle.load(f)\n",
    "\n",
    "with open(\"/share/jcorner_data/pkls/2012_2013_validation.pkl\", \"rb\") as f:\n",
    "    (x_val, y_val) = pickle.load(f)\n",
    "\n",
    "with open(\"/share/jcorner_data/pkls/2014_2017_test.pkl\", \"rb\") as f:\n",
    "    (x_test, y_test) = pickle.load(f)\n",
    "\n",
    "#Normalize by 80 dBZ\n",
    "x_train = x_train.astype(\"float32\") / 80\n",
    "x_test = x_test.astype(\"float32\") / 80\n",
    "x_val = x_val.astype(\"float32\") / 80\n",
    "\n",
    "print(\"x_train shape:\", x_train.shape)\n",
    "print(x_train.shape[0], \"train samples\")\n",
    "print(x_val.shape[0], \"validate samples\")\n",
    "print(x_test.shape[0], \"test samples\")\n",
    "\n",
    "y_train = keras.utils.to_categorical(y_train, num_classes)\n",
    "y_val = keras.utils.to_categorical(y_val, num_classes)\n",
    "y_test = keras.utils.to_categorical(y_test, num_classes)\n",
    "\n",
    "modes = ['isolated_cell', 'multiple_isolated_cells', 'loosely_clustered_cells', 'tightly_clustered_cells', 'qlcs', 'other']"
   ]
  },
  {
   "cell_type": "code",
   "execution_count": null,
   "id": "ac3433e0-6989-455c-863f-dc038928f7ad",
   "metadata": {},
   "outputs": [],
   "source": []
  },
  {
   "cell_type": "code",
   "execution_count": 3,
   "id": "f81b6abb-53ec-4782-ba6f-665c98b54193",
   "metadata": {},
   "outputs": [],
   "source": [
    "import cartopy.crs as ccrs\n",
    "import cartopy.io.shapereader as shpreader\n",
    "import cartopy.feature as cfeature\n",
    "import matplotlib.pyplot as plt\n",
    "from matplotlib.colors import ListedColormap, BoundaryNorm\n",
    "import numpy as np\n",
    "\n",
    "\n",
    "def radar_norm():\n",
    "    r\"\"\"Return a colormap and normalization that allow you to represent\n",
    "    radar data with colors every 5 dBZ that mimics the official NWS\n",
    "    radar images.\n",
    "    \n",
    "    Parameters\n",
    "    ----------\n",
    "        \n",
    "    Returns\n",
    "    -------\n",
    "    cmap: ListedColormap\n",
    "        NWS-like radar colormap.\n",
    "    norm: BoundaryNorm\n",
    "        Normalization for 5 dBZ levels (0-80).\n",
    "    \"\"\" \n",
    "\n",
    "    cmap = radar_colormap()\n",
    "    classes = np.array(list(range(0, 85, 5)))\n",
    "    norm = BoundaryNorm(classes, ncolors=cmap.N)    \n",
    "    \n",
    "    return cmap, norm\n",
    "\n",
    "\n",
    "def radar_colormap():\n",
    "    r\"\"\"Returns an NWS colormap.\n",
    "    \n",
    "    Parameters\n",
    "    ----------\n",
    "        \n",
    "    Returns\n",
    "    -------\n",
    "    cmap: ListedColormap\n",
    "        NWS-like radar colormap.\n",
    "    \"\"\" \n",
    " \n",
    "    nws_reflectivity_colors = [\"#ffffff\",  # 0\n",
    "                               \"#04e9e7\",  # 5\n",
    "                               \"#019ff4\",  # 10\n",
    "                               \"#0300f4\",  # 15\n",
    "                               \"#02fd02\",  # 20\n",
    "                               \"#01c501\",  # 25\n",
    "                               \"#008e00\",  # 30\n",
    "                               \"#fdf802\",  # 35\n",
    "                               \"#e5bc00\",  # 40\n",
    "                               \"#fd9500\",  # 45\n",
    "                               \"#fd0000\",  # 50\n",
    "                               \"#d40000\",  # 55\n",
    "                               \"#bc0000\",  # 60\n",
    "                               \"#f800fd\",  # 65\n",
    "                               \"#9854c6\",  # 70\n",
    "                               \"#4B0082\",  # 75\n",
    "                               \"#000000\"]\n",
    "                                \n",
    "    cmap = ListedColormap(nws_reflectivity_colors)\n",
    "    \n",
    "    return cmap\n",
    "\n",
    "\n",
    "def draw_box_plot(ax, img, cbar_shrink=0.35):\n",
    "    r\"\"\"Creates a pre-packaged display for indidivual or summary\n",
    "    svrimg images.  Modifies an input axis.\n",
    "    \n",
    "    Parameters\n",
    "    ----------\n",
    "    ax: matplotlib.pyplot.axes.Axes\n",
    "        Modifiable matplotlib.pyplot axis.\n",
    "    img: (M, N) ndarray\n",
    "        SVRIMG radar image\n",
    "    cbar_shrink: numeric\n",
    "        Value between 0 - 1.  This will be replacedwith kwargs in \n",
    "        future for more customization. Default is 0.35.\n",
    "    Returns\n",
    "    -------\n",
    "    ax: matplotlib.pyplot.axes.Axes\n",
    "        Modified matplotlib.pyplot axis.\n",
    "    \"\"\" \n",
    "\n",
    "    cmap, norm = radar_norm()\n",
    "    mmp = ax.imshow(np.flipud(img), cmap=cmap, norm=norm)\n",
    "\n",
    "    plt.colorbar(mmp, ax=ax, shrink=cbar_shrink, pad=0.01)\n",
    "    \n",
    "    return ax"
   ]
  },
  {
   "cell_type": "code",
   "execution_count": null,
   "id": "fde0d338-5d93-4dfb-a31a-3c0590620e09",
   "metadata": {},
   "outputs": [],
   "source": []
  },
  {
   "cell_type": "code",
   "execution_count": 4,
   "id": "a6bbf28a-cc53-40f9-8b60-d1b4362533a0",
   "metadata": {},
   "outputs": [
    {
     "data": {
      "text/plain": [
       "[PhysicalDevice(name='/physical_device:GPU:0', device_type='GPU')]"
      ]
     },
     "execution_count": 4,
     "metadata": {},
     "output_type": "execute_result"
    },
    {
     "name": "stderr",
     "output_type": "stream",
     "text": [
      "2023-09-16 17:41:16.204304: I tensorflow/stream_executor/cuda/cuda_gpu_executor.cc:952] successful NUMA node read from SysFS had negative value (-1), but there must be at least one NUMA node, so returning NUMA node zero\n",
      "2023-09-16 17:41:16.204705: I tensorflow/stream_executor/cuda/cuda_gpu_executor.cc:952] successful NUMA node read from SysFS had negative value (-1), but there must be at least one NUMA node, so returning NUMA node zero\n",
      "2023-09-16 17:41:16.204835: I tensorflow/stream_executor/cuda/cuda_gpu_executor.cc:952] successful NUMA node read from SysFS had negative value (-1), but there must be at least one NUMA node, so returning NUMA node zero\n"
     ]
    }
   ],
   "source": [
    "import tensorflow as tf\n",
    "gpus = tf.config.experimental.list_physical_devices(device_type=\"GPU\")\n",
    "gpus"
   ]
  },
  {
   "cell_type": "code",
   "execution_count": null,
   "id": "195c3591-bf5c-4810-98fb-50594dd42d20",
   "metadata": {},
   "outputs": [],
   "source": []
  },
  {
   "cell_type": "markdown",
   "id": "7740ce7b-d814-4426-bea1-0000805eb960",
   "metadata": {},
   "source": [
    "## Simple Randy Chase Model"
   ]
  },
  {
   "cell_type": "code",
   "execution_count": 4,
   "id": "2279f05f-c12a-430e-a14a-4a3af1e520df",
   "metadata": {},
   "outputs": [],
   "source": [
    "num = 24\n",
    "\n",
    "x_train48 = x_train[:, 68-num:68+num, 68-num:68+num, :]\n",
    "x_test48 = x_test[:, 68-num:68+num, 68-num:68+num, :]\n",
    "x_val48 = x_val[:, 68-num:68+num, 68-num:68+num, :]"
   ]
  },
  {
   "cell_type": "code",
   "execution_count": 5,
   "id": "88625a32-16b0-44eb-b1c9-41a2dcd04350",
   "metadata": {},
   "outputs": [
    {
     "data": {
      "text/plain": [
       "<AxesSubplot:>"
      ]
     },
     "execution_count": 5,
     "metadata": {},
     "output_type": "execute_result"
    },
    {
     "data": {
      "image/png": "[encoded data removed]",
      "text/plain": [
       "<Figure size 432x288 with 2 Axes>"
      ]
     },
     "metadata": {
      "needs_background": "light"
     },
     "output_type": "display_data"
    }
   ],
   "source": [
    "ax1 = plt.subplot(1,1,1)\n",
    "draw_box_plot(ax1, x_train[1,:,:,0]*80)"
   ]
  },
  {
   "cell_type": "code",
   "execution_count": 7,
   "id": "5dc6a3a8-2d2f-4c6c-9db5-87107f8790e5",
   "metadata": {},
   "outputs": [
    {
     "name": "stdout",
     "output_type": "stream",
     "text": [
      "Model: \"sequential_1\"\n",
      "_________________________________________________________________\n",
      " Layer (type)                Output Shape              Param #   \n",
      "=================================================================\n",
      " conv2d_1 (Conv2D)           (None, 134, 134, 1)       10        \n",
      "                                                                 \n",
      " flatten_1 (Flatten)         (None, 17956)             0         \n",
      "                                                                 \n",
      " dense_2 (Dense)             (None, 32)                574624    \n",
      "                                                                 \n",
      " dense_3 (Dense)             (None, 6)                 198       \n",
      "                                                                 \n",
      "=================================================================\n",
      "Total params: 574,832\n",
      "Trainable params: 574,832\n",
      "Non-trainable params: 0\n",
      "_________________________________________________________________\n"
     ]
    }
   ],
   "source": [
    "model = tf.keras.models.Sequential([\n",
    "        #input layer \n",
    "        tf.keras.layers.Conv2D(1,kernel_size=3,activation='relu',input_shape=(x_val.shape[1:]),),\n",
    "    \n",
    "        #need to flatten/ravel the 2d image into a 1d vector \n",
    "        tf.keras.layers.Flatten(),\n",
    "\n",
    "        #add another dense layer \n",
    "        tf.keras.layers.Dense(32,activation='relu'),\n",
    "    \n",
    "        #output layer (apply sigmoid because binary classification\n",
    "        tf.keras.layers.Dense(6,activation='softmax'),\n",
    "        ])\n",
    "\n",
    "model.summary()"
   ]
  },
  {
   "cell_type": "code",
   "execution_count": 7,
   "id": "81df04a8-2b8c-4ef0-be27-e4c0119fc1ce",
   "metadata": {},
   "outputs": [],
   "source": [
    "datagen = ImageDataGenerator(rotation_range=55, zoom_range=[0.9,1.0], fill_mode=\"reflect\")"
   ]
  },
  {
   "cell_type": "code",
   "execution_count": 10,
   "id": "9994d44b-d428-4e32-80bb-0d726b5125bf",
   "metadata": {},
   "outputs": [
    {
     "name": "stdout",
     "output_type": "stream",
     "text": [
      "Epoch 1/100\n"
     ]
    },
    {
     "name": "stderr",
     "output_type": "stream",
     "text": [
      "2023-09-11 16:44:59.900365: I tensorflow/stream_executor/cuda/cuda_dnn.cc:379] Loaded cuDNN version 8400\n"
     ]
    },
    {
     "name": "stdout",
     "output_type": "stream",
     "text": [
      "  3/143 [..............................] - ETA: 4s - loss: 2.6538 - accuracy: 0.1979  "
     ]
    },
    {
     "name": "stderr",
     "output_type": "stream",
     "text": [
      "2023-09-11 16:45:00.768913: I tensorflow/stream_executor/cuda/cuda_blas.cc:1804] TensorFloat-32 will be used for the matrix multiplication. This will only be logged once.\n"
     ]
    },
    {
     "name": "stdout",
     "output_type": "stream",
     "text": [
      "143/143 [==============================] - 9s 44ms/step - loss: 1.5267 - accuracy: 0.3713 - val_loss: 1.1879 - val_accuracy: 0.5210\n",
      "Epoch 2/100\n",
      "143/143 [==============================] - 6s 43ms/step - loss: 1.2317 - accuracy: 0.4649 - val_loss: 1.0441 - val_accuracy: 0.5631\n",
      "Epoch 3/100\n",
      "143/143 [==============================] - 6s 42ms/step - loss: 1.1557 - accuracy: 0.5020 - val_loss: 0.9362 - val_accuracy: 0.6472\n",
      "Epoch 4/100\n",
      "143/143 [==============================] - 6s 41ms/step - loss: 1.1038 - accuracy: 0.5206 - val_loss: 0.9220 - val_accuracy: 0.6084\n",
      "Epoch 5/100\n",
      "143/143 [==============================] - 6s 43ms/step - loss: 1.0678 - accuracy: 0.5379 - val_loss: 0.8657 - val_accuracy: 0.6634\n",
      "Epoch 6/100\n",
      "143/143 [==============================] - 6s 42ms/step - loss: 1.0581 - accuracy: 0.5463 - val_loss: 0.8962 - val_accuracy: 0.6893\n",
      "Epoch 7/100\n",
      "143/143 [==============================] - 6s 43ms/step - loss: 1.0434 - accuracy: 0.5559 - val_loss: 0.8385 - val_accuracy: 0.6537\n",
      "Epoch 8/100\n",
      "143/143 [==============================] - 7s 44ms/step - loss: 1.0227 - accuracy: 0.5632 - val_loss: 0.8610 - val_accuracy: 0.6828\n",
      "Epoch 9/100\n",
      "143/143 [==============================] - 6s 42ms/step - loss: 1.0091 - accuracy: 0.5752 - val_loss: 0.8642 - val_accuracy: 0.6764\n",
      "Epoch 10/100\n",
      "143/143 [==============================] - 6s 42ms/step - loss: 0.9952 - accuracy: 0.5829 - val_loss: 0.8402 - val_accuracy: 0.7152\n",
      "Epoch 11/100\n",
      "143/143 [==============================] - 6s 43ms/step - loss: 0.9789 - accuracy: 0.5904 - val_loss: 0.8265 - val_accuracy: 0.7023\n",
      "Epoch 12/100\n",
      "143/143 [==============================] - 7s 44ms/step - loss: 0.9714 - accuracy: 0.5936 - val_loss: 0.8462 - val_accuracy: 0.6699\n",
      "Epoch 13/100\n",
      "143/143 [==============================] - 7s 43ms/step - loss: 0.9568 - accuracy: 0.6070 - val_loss: 0.7805 - val_accuracy: 0.7314\n",
      "Epoch 14/100\n",
      "143/143 [==============================] - 7s 43ms/step - loss: 0.9434 - accuracy: 0.6061 - val_loss: 0.8104 - val_accuracy: 0.7249\n",
      "Epoch 15/100\n",
      "143/143 [==============================] - 7s 42ms/step - loss: 0.9364 - accuracy: 0.6189 - val_loss: 0.9344 - val_accuracy: 0.6278\n",
      "Epoch 16/100\n",
      "143/143 [==============================] - 7s 45ms/step - loss: 0.9246 - accuracy: 0.6147 - val_loss: 0.7570 - val_accuracy: 0.7184\n",
      "Epoch 17/100\n",
      "143/143 [==============================] - 7s 45ms/step - loss: 0.9242 - accuracy: 0.6268 - val_loss: 0.7744 - val_accuracy: 0.7411\n",
      "Epoch 18/100\n",
      "143/143 [==============================] - 6s 42ms/step - loss: 0.9124 - accuracy: 0.6254 - val_loss: 0.7707 - val_accuracy: 0.7379\n",
      "Epoch 19/100\n",
      "143/143 [==============================] - 6s 44ms/step - loss: 0.9056 - accuracy: 0.6241 - val_loss: 0.8199 - val_accuracy: 0.6926\n",
      "Epoch 20/100\n",
      "143/143 [==============================] - 6s 43ms/step - loss: 0.8979 - accuracy: 0.6309 - val_loss: 0.7987 - val_accuracy: 0.6893\n",
      "Epoch 21/100\n",
      "143/143 [==============================] - 6s 43ms/step - loss: 0.8866 - accuracy: 0.6412 - val_loss: 0.7598 - val_accuracy: 0.6990\n",
      "Epoch 22/100\n",
      "143/143 [==============================] - 7s 43ms/step - loss: 0.8857 - accuracy: 0.6346 - val_loss: 0.8765 - val_accuracy: 0.6537\n",
      "Epoch 23/100\n",
      "143/143 [==============================] - 7s 44ms/step - loss: 0.8815 - accuracy: 0.6406 - val_loss: 0.7900 - val_accuracy: 0.7023\n",
      "Epoch 24/100\n",
      "143/143 [==============================] - 7s 43ms/step - loss: 0.8703 - accuracy: 0.6379 - val_loss: 0.7482 - val_accuracy: 0.7476\n",
      "Epoch 25/100\n",
      "143/143 [==============================] - 6s 42ms/step - loss: 0.8690 - accuracy: 0.6414 - val_loss: 0.7222 - val_accuracy: 0.7379\n",
      "Epoch 26/100\n",
      "143/143 [==============================] - 7s 42ms/step - loss: 0.8577 - accuracy: 0.6491 - val_loss: 0.7188 - val_accuracy: 0.7379\n",
      "Epoch 27/100\n",
      "143/143 [==============================] - 7s 44ms/step - loss: 0.8650 - accuracy: 0.6434 - val_loss: 0.7490 - val_accuracy: 0.7314\n",
      "Epoch 28/100\n",
      "143/143 [==============================] - 7s 46ms/step - loss: 0.8547 - accuracy: 0.6518 - val_loss: 0.7669 - val_accuracy: 0.7217\n",
      "Epoch 29/100\n",
      "143/143 [==============================] - 6s 42ms/step - loss: 0.8412 - accuracy: 0.6577 - val_loss: 0.7498 - val_accuracy: 0.7282\n",
      "Epoch 30/100\n",
      "143/143 [==============================] - 6s 41ms/step - loss: 0.8436 - accuracy: 0.6504 - val_loss: 0.7176 - val_accuracy: 0.7379\n",
      "Epoch 31/100\n",
      "143/143 [==============================] - 6s 42ms/step - loss: 0.8336 - accuracy: 0.6632 - val_loss: 0.8021 - val_accuracy: 0.6796\n",
      "Epoch 32/100\n",
      "143/143 [==============================] - 6s 41ms/step - loss: 0.8297 - accuracy: 0.6686 - val_loss: 0.7423 - val_accuracy: 0.7087\n",
      "Epoch 33/100\n",
      "143/143 [==============================] - 6s 42ms/step - loss: 0.8283 - accuracy: 0.6623 - val_loss: 0.7368 - val_accuracy: 0.6926\n",
      "Epoch 34/100\n",
      "143/143 [==============================] - 7s 45ms/step - loss: 0.8062 - accuracy: 0.6743 - val_loss: 0.7323 - val_accuracy: 0.6861\n",
      "Epoch 35/100\n",
      "143/143 [==============================] - 7s 45ms/step - loss: 0.8107 - accuracy: 0.6695 - val_loss: 0.7395 - val_accuracy: 0.7346\n",
      "Epoch 36/100\n",
      "143/143 [==============================] - 6s 43ms/step - loss: 0.8041 - accuracy: 0.6724 - val_loss: 0.7221 - val_accuracy: 0.7314\n",
      "Epoch 37/100\n",
      "143/143 [==============================] - 7s 44ms/step - loss: 0.8087 - accuracy: 0.6752 - val_loss: 0.6967 - val_accuracy: 0.7767\n",
      "Epoch 38/100\n",
      "143/143 [==============================] - 7s 44ms/step - loss: 0.7908 - accuracy: 0.6789 - val_loss: 0.6623 - val_accuracy: 0.7573\n",
      "Epoch 39/100\n",
      "143/143 [==============================] - 6s 44ms/step - loss: 0.7799 - accuracy: 0.6901 - val_loss: 0.7990 - val_accuracy: 0.6667\n",
      "Epoch 40/100\n",
      "143/143 [==============================] - 7s 43ms/step - loss: 0.7798 - accuracy: 0.6860 - val_loss: 0.6610 - val_accuracy: 0.7411\n",
      "Epoch 41/100\n",
      "143/143 [==============================] - 7s 44ms/step - loss: 0.7732 - accuracy: 0.6945 - val_loss: 0.7528 - val_accuracy: 0.7023\n",
      "Epoch 42/100\n",
      "143/143 [==============================] - 7s 44ms/step - loss: 0.7594 - accuracy: 0.6914 - val_loss: 0.7440 - val_accuracy: 0.7184\n",
      "Epoch 43/100\n",
      "143/143 [==============================] - 7s 43ms/step - loss: 0.7574 - accuracy: 0.6969 - val_loss: 0.7295 - val_accuracy: 0.7023\n",
      "Epoch 44/100\n",
      "143/143 [==============================] - 6s 43ms/step - loss: 0.7474 - accuracy: 0.7009 - val_loss: 0.6166 - val_accuracy: 0.7832\n",
      "Epoch 45/100\n",
      "143/143 [==============================] - 6s 42ms/step - loss: 0.7551 - accuracy: 0.7002 - val_loss: 0.6712 - val_accuracy: 0.7120\n",
      "Epoch 46/100\n",
      "143/143 [==============================] - 6s 42ms/step - loss: 0.7490 - accuracy: 0.7009 - val_loss: 0.6332 - val_accuracy: 0.7508\n",
      "Epoch 47/100\n",
      "143/143 [==============================] - 6s 42ms/step - loss: 0.7322 - accuracy: 0.7110 - val_loss: 0.7060 - val_accuracy: 0.7249\n",
      "Epoch 48/100\n",
      "143/143 [==============================] - 6s 42ms/step - loss: 0.7362 - accuracy: 0.7004 - val_loss: 0.6282 - val_accuracy: 0.7508\n",
      "Epoch 49/100\n",
      "143/143 [==============================] - 7s 46ms/step - loss: 0.7376 - accuracy: 0.7061 - val_loss: 0.7369 - val_accuracy: 0.7087\n",
      "Epoch 50/100\n",
      "143/143 [==============================] - 6s 42ms/step - loss: 0.7354 - accuracy: 0.7044 - val_loss: 0.7794 - val_accuracy: 0.6796\n",
      "Epoch 51/100\n",
      "143/143 [==============================] - 7s 45ms/step - loss: 0.7268 - accuracy: 0.7125 - val_loss: 0.6909 - val_accuracy: 0.7249\n",
      "Epoch 52/100\n",
      "143/143 [==============================] - 6s 41ms/step - loss: 0.7256 - accuracy: 0.7129 - val_loss: 0.6957 - val_accuracy: 0.7346\n",
      "Epoch 53/100\n",
      "143/143 [==============================] - 6s 42ms/step - loss: 0.7169 - accuracy: 0.7211 - val_loss: 0.6093 - val_accuracy: 0.7508\n",
      "Epoch 54/100\n",
      "143/143 [==============================] - 7s 45ms/step - loss: 0.7220 - accuracy: 0.7112 - val_loss: 0.6832 - val_accuracy: 0.7120\n",
      "Epoch 55/100\n",
      "143/143 [==============================] - 6s 43ms/step - loss: 0.7163 - accuracy: 0.7134 - val_loss: 0.6816 - val_accuracy: 0.7346\n",
      "Epoch 56/100\n",
      "143/143 [==============================] - 6s 41ms/step - loss: 0.7147 - accuracy: 0.7167 - val_loss: 0.6394 - val_accuracy: 0.7411\n",
      "Epoch 57/100\n",
      "143/143 [==============================] - 6s 42ms/step - loss: 0.7023 - accuracy: 0.7191 - val_loss: 0.6705 - val_accuracy: 0.7282\n",
      "Epoch 58/100\n",
      "143/143 [==============================] - 6s 44ms/step - loss: 0.6990 - accuracy: 0.7270 - val_loss: 0.6957 - val_accuracy: 0.7346\n",
      "Epoch 59/100\n",
      "143/143 [==============================] - 6s 42ms/step - loss: 0.6982 - accuracy: 0.7303 - val_loss: 0.6753 - val_accuracy: 0.7249\n",
      "Epoch 60/100\n",
      "143/143 [==============================] - 6s 42ms/step - loss: 0.7093 - accuracy: 0.7121 - val_loss: 0.6634 - val_accuracy: 0.7314\n",
      "Epoch 61/100\n",
      "143/143 [==============================] - 7s 45ms/step - loss: 0.7133 - accuracy: 0.7121 - val_loss: 0.6995 - val_accuracy: 0.7314\n",
      "Epoch 62/100\n",
      "143/143 [==============================] - 6s 43ms/step - loss: 0.7097 - accuracy: 0.7147 - val_loss: 0.6480 - val_accuracy: 0.7314\n",
      "Epoch 63/100\n",
      "143/143 [==============================] - 6s 42ms/step - loss: 0.6976 - accuracy: 0.7213 - val_loss: 0.6660 - val_accuracy: 0.7249\n",
      "Epoch 64/100\n",
      "143/143 [==============================] - 7s 44ms/step - loss: 0.7092 - accuracy: 0.7221 - val_loss: 0.6530 - val_accuracy: 0.7540\n",
      "Epoch 65/100\n",
      "143/143 [==============================] - 7s 44ms/step - loss: 0.7006 - accuracy: 0.7232 - val_loss: 0.6004 - val_accuracy: 0.7508\n",
      "Epoch 66/100\n",
      "143/143 [==============================] - 6s 41ms/step - loss: 0.6960 - accuracy: 0.7206 - val_loss: 0.7141 - val_accuracy: 0.7184\n",
      "Epoch 67/100\n",
      "143/143 [==============================] - 7s 44ms/step - loss: 0.6863 - accuracy: 0.7243 - val_loss: 0.6763 - val_accuracy: 0.7379\n",
      "Epoch 68/100\n",
      "143/143 [==============================] - 6s 42ms/step - loss: 0.6914 - accuracy: 0.7211 - val_loss: 0.6280 - val_accuracy: 0.7476\n",
      "Epoch 69/100\n",
      "143/143 [==============================] - 6s 42ms/step - loss: 0.6911 - accuracy: 0.7296 - val_loss: 0.6227 - val_accuracy: 0.7540\n",
      "Epoch 70/100\n",
      "143/143 [==============================] - 7s 44ms/step - loss: 0.6988 - accuracy: 0.7202 - val_loss: 0.6331 - val_accuracy: 0.7411\n",
      "Epoch 71/100\n",
      "143/143 [==============================] - 6s 42ms/step - loss: 0.6825 - accuracy: 0.7274 - val_loss: 0.6929 - val_accuracy: 0.6990\n",
      "Epoch 72/100\n",
      "143/143 [==============================] - 6s 42ms/step - loss: 0.6813 - accuracy: 0.7292 - val_loss: 0.6812 - val_accuracy: 0.6990\n",
      "Epoch 73/100\n",
      "143/143 [==============================] - 7s 44ms/step - loss: 0.6976 - accuracy: 0.7213 - val_loss: 0.7208 - val_accuracy: 0.6990\n",
      "Epoch 74/100\n",
      "143/143 [==============================] - 7s 42ms/step - loss: 0.6881 - accuracy: 0.7300 - val_loss: 0.7162 - val_accuracy: 0.7087\n",
      "Epoch 75/100\n",
      "143/143 [==============================] - 6s 44ms/step - loss: 0.6822 - accuracy: 0.7296 - val_loss: 0.6296 - val_accuracy: 0.7379\n",
      "Epoch 76/100\n",
      "143/143 [==============================] - 6s 44ms/step - loss: 0.6923 - accuracy: 0.7224 - val_loss: 0.6669 - val_accuracy: 0.7184\n",
      "Epoch 77/100\n",
      "143/143 [==============================] - 6s 42ms/step - loss: 0.6864 - accuracy: 0.7252 - val_loss: 0.6371 - val_accuracy: 0.7314\n",
      "Epoch 78/100\n",
      "143/143 [==============================] - 7s 42ms/step - loss: 0.6832 - accuracy: 0.7263 - val_loss: 0.6792 - val_accuracy: 0.7055\n",
      "Epoch 79/100\n",
      "143/143 [==============================] - 6s 43ms/step - loss: 0.6713 - accuracy: 0.7316 - val_loss: 0.6120 - val_accuracy: 0.7670\n",
      "Epoch 80/100\n",
      "143/143 [==============================] - 7s 44ms/step - loss: 0.6794 - accuracy: 0.7285 - val_loss: 0.6519 - val_accuracy: 0.7152\n",
      "Epoch 81/100\n",
      "143/143 [==============================] - 7s 42ms/step - loss: 0.6746 - accuracy: 0.7311 - val_loss: 0.6433 - val_accuracy: 0.7249\n",
      "Epoch 82/100\n",
      "143/143 [==============================] - 7s 44ms/step - loss: 0.6837 - accuracy: 0.7351 - val_loss: 0.5926 - val_accuracy: 0.7605\n",
      "Epoch 83/100\n",
      "143/143 [==============================] - 7s 46ms/step - loss: 0.6691 - accuracy: 0.7349 - val_loss: 0.6693 - val_accuracy: 0.7249\n",
      "Epoch 84/100\n",
      "143/143 [==============================] - 7s 45ms/step - loss: 0.6722 - accuracy: 0.7355 - val_loss: 0.5909 - val_accuracy: 0.7864\n",
      "Epoch 85/100\n",
      "143/143 [==============================] - 6s 44ms/step - loss: 0.6724 - accuracy: 0.7268 - val_loss: 0.6696 - val_accuracy: 0.7314\n",
      "Epoch 86/100\n",
      "143/143 [==============================] - 7s 42ms/step - loss: 0.6814 - accuracy: 0.7270 - val_loss: 0.6369 - val_accuracy: 0.7670\n",
      "Epoch 87/100\n",
      "143/143 [==============================] - 7s 42ms/step - loss: 0.6644 - accuracy: 0.7320 - val_loss: 0.6311 - val_accuracy: 0.7670\n",
      "Epoch 88/100\n",
      "143/143 [==============================] - 6s 42ms/step - loss: 0.6609 - accuracy: 0.7395 - val_loss: 0.5838 - val_accuracy: 0.7896\n",
      "Epoch 89/100\n",
      "143/143 [==============================] - 6s 42ms/step - loss: 0.6646 - accuracy: 0.7351 - val_loss: 0.6391 - val_accuracy: 0.7476\n",
      "Epoch 90/100\n",
      "143/143 [==============================] - 6s 44ms/step - loss: 0.6677 - accuracy: 0.7340 - val_loss: 0.6619 - val_accuracy: 0.7443\n",
      "Epoch 91/100\n",
      "143/143 [==============================] - 7s 44ms/step - loss: 0.6577 - accuracy: 0.7406 - val_loss: 0.6716 - val_accuracy: 0.7443\n",
      "Epoch 92/100\n",
      "143/143 [==============================] - 7s 43ms/step - loss: 0.6579 - accuracy: 0.7307 - val_loss: 0.6388 - val_accuracy: 0.7476\n",
      "Epoch 93/100\n",
      "143/143 [==============================] - 6s 42ms/step - loss: 0.6629 - accuracy: 0.7357 - val_loss: 0.6017 - val_accuracy: 0.7476\n",
      "Epoch 94/100\n",
      "143/143 [==============================] - 6s 41ms/step - loss: 0.6485 - accuracy: 0.7428 - val_loss: 0.6325 - val_accuracy: 0.7443\n",
      "Epoch 95/100\n",
      "143/143 [==============================] - 7s 44ms/step - loss: 0.6701 - accuracy: 0.7399 - val_loss: 0.6595 - val_accuracy: 0.7379\n",
      "Epoch 96/100\n",
      "143/143 [==============================] - 6s 42ms/step - loss: 0.6509 - accuracy: 0.7421 - val_loss: 0.6585 - val_accuracy: 0.7346\n",
      "Epoch 97/100\n",
      "143/143 [==============================] - 7s 45ms/step - loss: 0.6528 - accuracy: 0.7432 - val_loss: 0.6399 - val_accuracy: 0.7443\n",
      "Epoch 98/100\n",
      "143/143 [==============================] - 6s 43ms/step - loss: 0.6583 - accuracy: 0.7362 - val_loss: 0.6384 - val_accuracy: 0.7443\n",
      "Epoch 99/100\n",
      "143/143 [==============================] - 6s 41ms/step - loss: 0.6606 - accuracy: 0.7364 - val_loss: 0.5765 - val_accuracy: 0.7767\n",
      "Epoch 100/100\n",
      "143/143 [==============================] - 6s 42ms/step - loss: 0.6515 - accuracy: 0.7408 - val_loss: 0.5987 - val_accuracy: 0.7670\n"
     ]
    }
   ],
   "source": [
    "epochs = 100\n",
    "\n",
    "model.compile(loss=\"categorical_crossentropy\", optimizer=\"adam\", metrics=[\"accuracy\"])\n",
    "history = model.fit(datagen.flow(x_train, y_train, batch_size=32), epochs=epochs, validation_data=(x_val, y_val), workers=8)"
   ]
  },
  {
   "cell_type": "code",
   "execution_count": 11,
   "id": "e9c2da33-f00a-4d96-8747-cd7604534a21",
   "metadata": {},
   "outputs": [
    {
     "data": {
      "image/png": "[encoded data removed]",
      "text/plain": [
       "<Figure size 720x432 with 1 Axes>"
      ]
     },
     "metadata": {
      "needs_background": "light"
     },
     "output_type": "display_data"
    }
   ],
   "source": [
    "from matplotlib import pyplot as plt\n",
    "plt.rcParams['figure.figsize'] = 10, 6\n",
    "\n",
    "plt.plot(history.history['accuracy'])\n",
    "plt.plot(history.history['val_accuracy'])\n",
    "plt.title('model accuracy')\n",
    "plt.ylabel('accuracy')\n",
    "plt.xlabel('epoch')\n",
    "plt.legend(['train', 'val.'], loc='upper left')\n",
    "plt.show()"
   ]
  },
  {
   "cell_type": "code",
   "execution_count": 12,
   "id": "b8219818-24c8-43cb-a232-1545842702c7",
   "metadata": {},
   "outputs": [],
   "source": [
    "#save the model\n",
    "#model.save(\"/share/jcorner_data/models/morph_model_RandyChase_v06.h5\")"
   ]
  },
  {
   "cell_type": "code",
   "execution_count": null,
   "id": "0356c1ae-67ea-4ea3-970c-c152625bb30c",
   "metadata": {},
   "outputs": [],
   "source": []
  },
  {
   "cell_type": "markdown",
   "id": "e136a8b3-d77c-4c4d-83e2-54f35cbe2d47",
   "metadata": {},
   "source": [
    "## Suggested David Gagne Model"
   ]
  },
  {
   "cell_type": "code",
   "execution_count": 1,
   "id": "ac018fa3-13fb-4234-9cc0-8d5daf6cafd4",
   "metadata": {},
   "outputs": [
    {
     "ename": "NameError",
     "evalue": "name 'keras' is not defined",
     "output_type": "error",
     "traceback": [
      "\u001b[0;31m---------------------------------------------------------------------------\u001b[0m",
      "\u001b[0;31mNameError\u001b[0m                                 Traceback (most recent call last)",
      "Input \u001b[0;32mIn [1]\u001b[0m, in \u001b[0;36m<cell line: 1>\u001b[0;34m()\u001b[0m\n\u001b[0;32m----> 1\u001b[0m model \u001b[38;5;241m=\u001b[39m \u001b[43mkeras\u001b[49m\u001b[38;5;241m.\u001b[39mSequential(\n\u001b[1;32m      2\u001b[0m     [\n\u001b[1;32m      3\u001b[0m         keras\u001b[38;5;241m.\u001b[39mInput(shape\u001b[38;5;241m=\u001b[39m(\u001b[38;5;241m136\u001b[39m, \u001b[38;5;241m136\u001b[39m, \u001b[38;5;241m1\u001b[39m)),\n\u001b[1;32m      4\u001b[0m         layers\u001b[38;5;241m.\u001b[39mConv2D(\u001b[38;5;241m32\u001b[39m, kernel_size\u001b[38;5;241m=\u001b[39m(\u001b[38;5;241m5\u001b[39m, \u001b[38;5;241m5\u001b[39m), activation\u001b[38;5;241m=\u001b[39m\u001b[38;5;124m\"\u001b[39m\u001b[38;5;124mrelu\u001b[39m\u001b[38;5;124m\"\u001b[39m),\n\u001b[1;32m      5\u001b[0m         layers\u001b[38;5;241m.\u001b[39mConv2D(\u001b[38;5;241m64\u001b[39m, kernel_size\u001b[38;5;241m=\u001b[39m(\u001b[38;5;241m5\u001b[39m, \u001b[38;5;241m5\u001b[39m), activation\u001b[38;5;241m=\u001b[39m\u001b[38;5;124m\"\u001b[39m\u001b[38;5;124mrelu\u001b[39m\u001b[38;5;124m\"\u001b[39m),\n\u001b[1;32m      6\u001b[0m         layers\u001b[38;5;241m.\u001b[39mAveragePooling2D(pool_size\u001b[38;5;241m=\u001b[39m(\u001b[38;5;241m2\u001b[39m, \u001b[38;5;241m2\u001b[39m)),\n\u001b[1;32m      7\u001b[0m         layers\u001b[38;5;241m.\u001b[39mConv2D(\u001b[38;5;241m128\u001b[39m, kernel_size\u001b[38;5;241m=\u001b[39m(\u001b[38;5;241m5\u001b[39m, \u001b[38;5;241m5\u001b[39m), activation\u001b[38;5;241m=\u001b[39m\u001b[38;5;124m\"\u001b[39m\u001b[38;5;124mrelu\u001b[39m\u001b[38;5;124m\"\u001b[39m),\n\u001b[1;32m      8\u001b[0m         layers\u001b[38;5;241m.\u001b[39mAveragePooling2D(pool_size\u001b[38;5;241m=\u001b[39m(\u001b[38;5;241m2\u001b[39m, \u001b[38;5;241m2\u001b[39m)),\n\u001b[1;32m      9\u001b[0m         layers\u001b[38;5;241m.\u001b[39mDense(\u001b[38;5;241m128\u001b[39m, activation\u001b[38;5;241m=\u001b[39m\u001b[38;5;124m\"\u001b[39m\u001b[38;5;124mrelu\u001b[39m\u001b[38;5;124m\"\u001b[39m),\n\u001b[1;32m     10\u001b[0m         layers\u001b[38;5;241m.\u001b[39mFlatten(),\n\u001b[1;32m     11\u001b[0m         layers\u001b[38;5;241m.\u001b[39mDense(num_classes, activation\u001b[38;5;241m=\u001b[39m\u001b[38;5;124m\"\u001b[39m\u001b[38;5;124msoftmax\u001b[39m\u001b[38;5;124m\"\u001b[39m),\n\u001b[1;32m     12\u001b[0m     ]\n\u001b[1;32m     13\u001b[0m )\n\u001b[1;32m     15\u001b[0m model\u001b[38;5;241m.\u001b[39msummary()\n",
      "\u001b[0;31mNameError\u001b[0m: name 'keras' is not defined"
     ]
    }
   ],
   "source": [
    "model = keras.Sequential(\n",
    "    [\n",
    "        keras.Input(shape=(136, 136, 1)),\n",
    "        layers.Conv2D(32, kernel_size=(5, 5), activation=\"relu\"),\n",
    "        layers.Conv2D(64, kernel_size=(5, 5), activation=\"relu\"),\n",
    "        layers.AveragePooling2D(pool_size=(2, 2)),\n",
    "        layers.Conv2D(128, kernel_size=(5, 5), activation=\"relu\"),\n",
    "        layers.AveragePooling2D(pool_size=(2, 2)),\n",
    "        layers.Dense(128, activation=\"relu\"),\n",
    "        layers.Flatten(),\n",
    "        layers.Dense(num_classes, activation=\"softmax\"),\n",
    "    ]\n",
    ")\n",
    "\n",
    "model.summary()"
   ]
  },
  {
   "cell_type": "code",
   "execution_count": null,
   "id": "c15ec401-3c89-464c-b364-f33083759629",
   "metadata": {},
   "outputs": [],
   "source": []
  },
  {
   "cell_type": "code",
   "execution_count": 12,
   "id": "f8631c52-20c7-4c08-ab47-d4877ac158aa",
   "metadata": {},
   "outputs": [
    {
     "name": "stdout",
     "output_type": "stream",
     "text": [
      "Epoch 1/15\n",
      "36/36 [==============================] - 7s 160ms/step - loss: 1.2567 - accuracy: 0.4706 - val_loss: 0.9194 - val_accuracy: 0.6181\n",
      "Epoch 2/15\n",
      "36/36 [==============================] - 7s 149ms/step - loss: 0.9435 - accuracy: 0.6066 - val_loss: 1.3256 - val_accuracy: 0.5437\n",
      "Epoch 3/15\n",
      "36/36 [==============================] - 7s 145ms/step - loss: 0.8168 - accuracy: 0.6618 - val_loss: 0.8371 - val_accuracy: 0.5987\n",
      "Epoch 4/15\n",
      "36/36 [==============================] - 6s 137ms/step - loss: 0.6766 - accuracy: 0.7303 - val_loss: 0.9675 - val_accuracy: 0.5696\n",
      "Epoch 5/15\n",
      "36/36 [==============================] - 6s 148ms/step - loss: 0.6215 - accuracy: 0.7529 - val_loss: 0.7142 - val_accuracy: 0.6667\n",
      "Epoch 6/15\n",
      "36/36 [==============================] - 7s 144ms/step - loss: 0.5494 - accuracy: 0.7822 - val_loss: 0.4820 - val_accuracy: 0.8091\n",
      "Epoch 7/15\n",
      "36/36 [==============================] - 8s 149ms/step - loss: 0.5339 - accuracy: 0.7982 - val_loss: 0.7566 - val_accuracy: 0.6311\n",
      "Epoch 8/15\n",
      "36/36 [==============================] - 8s 152ms/step - loss: 0.4859 - accuracy: 0.8070 - val_loss: 0.7230 - val_accuracy: 0.7120\n",
      "Epoch 9/15\n",
      "36/36 [==============================] - 7s 154ms/step - loss: 0.4770 - accuracy: 0.8160 - val_loss: 0.5725 - val_accuracy: 0.7638\n",
      "Epoch 10/15\n",
      "36/36 [==============================] - 7s 140ms/step - loss: 0.4271 - accuracy: 0.8322 - val_loss: 0.5533 - val_accuracy: 0.7832\n",
      "Epoch 11/15\n",
      "36/36 [==============================] - 7s 165ms/step - loss: 0.4424 - accuracy: 0.8283 - val_loss: 0.5748 - val_accuracy: 0.7702\n",
      "Epoch 12/15\n",
      "36/36 [==============================] - 8s 151ms/step - loss: 0.3910 - accuracy: 0.8482 - val_loss: 0.3128 - val_accuracy: 0.8867\n",
      "Epoch 13/15\n",
      "36/36 [==============================] - 8s 146ms/step - loss: 0.4035 - accuracy: 0.8412 - val_loss: 0.3815 - val_accuracy: 0.8608\n",
      "Epoch 14/15\n",
      "36/36 [==============================] - 6s 160ms/step - loss: 0.3767 - accuracy: 0.8520 - val_loss: 0.3895 - val_accuracy: 0.8479\n",
      "Epoch 15/15\n",
      "36/36 [==============================] - 8s 157ms/step - loss: 0.3688 - accuracy: 0.8559 - val_loss: 0.3553 - val_accuracy: 0.8544\n"
     ]
    }
   ],
   "source": [
    "epochs = 15\n",
    "\n",
    "model.compile(loss=\"categorical_crossentropy\", optimizer=\"adam\", metrics=[\"accuracy\"])\n",
    "history = model.fit(datagen.flow(x_train, y_train, batch_size=128), epochs=epochs, validation_data=(x_val, y_val), workers=8)"
   ]
  },
  {
   "cell_type": "code",
   "execution_count": 13,
   "id": "fe8ffcea-2231-465a-b293-fcc07f69495a",
   "metadata": {},
   "outputs": [
    {
     "name": "stdout",
     "output_type": "stream",
     "text": [
      "Test loss: 0.32488662004470825\n",
      "Test accuracy: 0.8782608509063721\n"
     ]
    }
   ],
   "source": [
    "score = model.evaluate(x_test, y_test, verbose=0)\n",
    "print(\"Test loss:\", score[0])\n",
    "print(\"Test accuracy:\", score[1])"
   ]
  },
  {
   "cell_type": "code",
   "execution_count": 14,
   "id": "345dda2e-0785-49eb-a2f7-cc21c5a7d61a",
   "metadata": {},
   "outputs": [
    {
     "data": {
      "image/png": "[encoded data removed]",
      "text/plain": [
       "<Figure size 720x432 with 1 Axes>"
      ]
     },
     "metadata": {
      "needs_background": "light"
     },
     "output_type": "display_data"
    }
   ],
   "source": [
    "from matplotlib import pyplot as plt\n",
    "plt.rcParams['figure.figsize'] = 10, 6\n",
    "\n",
    "plt.plot(history.history['accuracy'])\n",
    "plt.plot(history.history['val_accuracy'])\n",
    "plt.title('model accuracy')\n",
    "plt.ylabel('accuracy')\n",
    "plt.xlabel('epoch')\n",
    "plt.legend(['train', 'val.'], loc='upper left')\n",
    "plt.show()"
   ]
  },
  {
   "cell_type": "code",
   "execution_count": null,
   "id": "a84be2e7-212f-4c50-85f3-4de7603e408b",
   "metadata": {},
   "outputs": [],
   "source": []
  },
  {
   "cell_type": "code",
   "execution_count": null,
   "id": "e965eb4a-d518-45f6-817e-5970888cd7b5",
   "metadata": {},
   "outputs": [],
   "source": []
  }
 ],
 "metadata": {
  "kernelspec": {
   "display_name": "Python 3 (ipykernel)",
   "language": "python",
   "name": "python3"
  },
  "language_info": {
   "codemirror_mode": {
    "name": "ipython",
    "version": 3
   },
   "file_extension": ".py",
   "mimetype": "text/x-python",
   "name": "python",
   "nbconvert_exporter": "python",
   "pygments_lexer": "ipython3",
   "version": "3.10.9"
  }
 },
 "nbformat": 4,
 "nbformat_minor": 5
}
