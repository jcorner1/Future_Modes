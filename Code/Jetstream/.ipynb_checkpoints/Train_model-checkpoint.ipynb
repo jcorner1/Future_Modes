{
 "cells": [
  {
   "cell_type": "markdown",
   "id": "0b552b28-d0c5-49b5-a296-06a032b2fa39",
   "metadata": {},
   "source": [
    "# Create a Model"
   ]
  },
  {
   "cell_type": "code",
   "execution_count": 1,
   "id": "cdfa6bae-b3fd-46cb-91fc-635ee803f291",
   "metadata": {},
   "outputs": [
    {
     "name": "stderr",
     "output_type": "stream",
     "text": [
      "2024-04-11 18:43:27.553624: E tensorflow/compiler/xla/stream_executor/cuda/cuda_dnn.cc:9360] Unable to register cuDNN factory: Attempting to register factory for plugin cuDNN when one has already been registered\n",
      "2024-04-11 18:43:27.553738: E tensorflow/compiler/xla/stream_executor/cuda/cuda_fft.cc:609] Unable to register cuFFT factory: Attempting to register factory for plugin cuFFT when one has already been registered\n",
      "2024-04-11 18:43:27.553793: E tensorflow/compiler/xla/stream_executor/cuda/cuda_blas.cc:1537] Unable to register cuBLAS factory: Attempting to register factory for plugin cuBLAS when one has already been registered\n",
      "2024-04-11 18:43:27.568997: I tensorflow/core/platform/cpu_feature_guard.cc:183] This TensorFlow binary is optimized to use available CPU instructions in performance-critical operations.\n",
      "To enable the following instructions: SSE3 SSE4.1 SSE4.2 AVX, in other operations, rebuild TensorFlow with the appropriate compiler flags.\n"
     ]
    }
   ],
   "source": [
    "import numpy as np\n",
    "import tensorflow as tf\n",
    "from tensorflow import keras\n",
    "from tensorflow.keras import layers\n",
    "import pickle\n",
    "import keras_tuner\n",
    "from tensorflow.keras.preprocessing.image import ImageDataGenerator"
   ]
  },
  {
   "cell_type": "markdown",
   "id": "e70cabc8-b2b3-4b92-8e78-8753e19098ec",
   "metadata": {},
   "source": [
    "### Load the Data"
   ]
  },
  {
   "cell_type": "code",
   "execution_count": 2,
   "id": "8f03b4b5-fab7-4fc7-9da0-44e3877d6db5",
   "metadata": {},
   "outputs": [],
   "source": [
    "#load the data\n",
    "with open(\"/share/jcorner_data/pkls/new_mode_svrimg/svrimg_new_mode_train.pkl\", \"rb\") as f:\n",
    "    (x_train, y_train) = pickle.load(f)\n",
    "\n",
    "with open(\"/share/jcorner_data/pkls/new_mode_svrimg/svrimg_new_mode_validation.pkl\", \"rb\") as f:\n",
    "    (x_val, y_val) = pickle.load(f)\n",
    "\n",
    "with open(\"/share/jcorner_data/pkls/new_mode_svrimg/svrimg_new_mode_test.pkl\", \"rb\") as f:\n",
    "    (x_test, y_test) = pickle.load(f)\n",
    "\n",
    "num_classes = 4\n",
    "input_shape = (136, 136, 1)"
   ]
  },
  {
   "cell_type": "code",
   "execution_count": 3,
   "id": "12d7dde1-e8bc-486d-994d-e068cb7d55db",
   "metadata": {},
   "outputs": [
    {
     "name": "stdout",
     "output_type": "stream",
     "text": [
      "x_train shape: (1730, 136, 136, 1)\n",
      "1730 train samples\n",
      "453 validate samples\n",
      "299 test samples\n"
     ]
    }
   ],
   "source": [
    "#Normalize by 80 dBZ\n",
    "x_train = x_train.astype(\"float32\") / 80\n",
    "x_test = x_test.astype(\"float32\") / 80\n",
    "x_val = x_val.astype(\"float32\") / 80\n",
    "\n",
    "print(\"x_train shape:\", x_train.shape)\n",
    "print(x_train.shape[0], \"train samples\")\n",
    "print(x_val.shape[0], \"validate samples\")\n",
    "print(x_test.shape[0], \"test samples\")"
   ]
  },
  {
   "cell_type": "code",
   "execution_count": 4,
   "id": "394a8951-803b-4f62-941f-4a2760bde62e",
   "metadata": {},
   "outputs": [],
   "source": [
    "#convert to useful information for keras\n",
    "y_train = keras.utils.to_categorical(y_train, num_classes)\n",
    "y_val = keras.utils.to_categorical(y_val, num_classes)\n",
    "y_test = keras.utils.to_categorical(y_test, num_classes)"
   ]
  },
  {
   "cell_type": "code",
   "execution_count": 5,
   "id": "d02a4ee6-89b1-4c29-af12-ecf60826c656",
   "metadata": {},
   "outputs": [
    {
     "name": "stderr",
     "output_type": "stream",
     "text": [
      "2024-04-11 18:43:30.527962: I tensorflow/compiler/xla/stream_executor/cuda/cuda_gpu_executor.cc:894] successful NUMA node read from SysFS had negative value (-1), but there must be at least one NUMA node, so returning NUMA node zero. See more at https://github.com/torvalds/linux/blob/v6.0/Documentation/ABI/testing/sysfs-bus-pci#L344-L355\n",
      "2024-04-11 18:43:30.538929: I tensorflow/compiler/xla/stream_executor/cuda/cuda_gpu_executor.cc:894] successful NUMA node read from SysFS had negative value (-1), but there must be at least one NUMA node, so returning NUMA node zero. See more at https://github.com/torvalds/linux/blob/v6.0/Documentation/ABI/testing/sysfs-bus-pci#L344-L355\n",
      "2024-04-11 18:43:30.539073: I tensorflow/compiler/xla/stream_executor/cuda/cuda_gpu_executor.cc:894] successful NUMA node read from SysFS had negative value (-1), but there must be at least one NUMA node, so returning NUMA node zero. See more at https://github.com/torvalds/linux/blob/v6.0/Documentation/ABI/testing/sysfs-bus-pci#L344-L355\n"
     ]
    },
    {
     "data": {
      "text/plain": [
       "[PhysicalDevice(name='/physical_device:GPU:0', device_type='GPU')]"
      ]
     },
     "execution_count": 5,
     "metadata": {},
     "output_type": "execute_result"
    }
   ],
   "source": [
    "gpus = tf.config.experimental.list_physical_devices(device_type=\"GPU\")\n",
    "gpus"
   ]
  },
  {
   "cell_type": "markdown",
   "id": "daf215ab-e2a6-47e5-96fd-b24c89e27f25",
   "metadata": {},
   "source": [
    "### Create the Model"
   ]
  },
  {
   "cell_type": "code",
   "execution_count": 6,
   "id": "0e2b9201-d2d8-4954-acab-2578e13a9c22",
   "metadata": {},
   "outputs": [
    {
     "name": "stderr",
     "output_type": "stream",
     "text": [
      "2024-04-11 18:43:30.566641: I tensorflow/compiler/xla/stream_executor/cuda/cuda_gpu_executor.cc:894] successful NUMA node read from SysFS had negative value (-1), but there must be at least one NUMA node, so returning NUMA node zero. See more at https://github.com/torvalds/linux/blob/v6.0/Documentation/ABI/testing/sysfs-bus-pci#L344-L355\n"
     ]
    },
    {
     "name": "stdout",
     "output_type": "stream",
     "text": [
      "Model: \"sequential\"\n",
      "_________________________________________________________________\n",
      " Layer (type)                Output Shape              Param #   \n",
      "=================================================================\n",
      " conv2d (Conv2D)             (None, 128, 128, 12)      984       \n",
      "                                                                 \n",
      " conv2d_1 (Conv2D)           (None, 120, 120, 24)      23352     \n",
      "                                                                 \n",
      " average_pooling2d (Average  (None, 40, 40, 24)        0         \n",
      " Pooling2D)                                                      \n",
      "                                                                 \n",
      " conv2d_2 (Conv2D)           (None, 32, 32, 48)        93360     \n",
      "                                                                 \n",
      " average_pooling2d_1 (Avera  (None, 10, 10, 48)        0         \n",
      " gePooling2D)                                                    \n",
      "                                                                 \n",
      " flatten (Flatten)           (None, 4800)              0         \n",
      "                                                                 \n",
      " dense (Dense)               (None, 4)                 19204     \n",
      "                                                                 \n",
      "=================================================================\n",
      "Total params: 136900 (534.77 KB)\n",
      "Trainable params: 136900 (534.77 KB)\n",
      "Non-trainable params: 0 (0.00 Byte)\n",
      "_________________________________________________________________\n"
     ]
    },
    {
     "name": "stderr",
     "output_type": "stream",
     "text": [
      "2024-04-11 18:43:30.566792: I tensorflow/compiler/xla/stream_executor/cuda/cuda_gpu_executor.cc:894] successful NUMA node read from SysFS had negative value (-1), but there must be at least one NUMA node, so returning NUMA node zero. See more at https://github.com/torvalds/linux/blob/v6.0/Documentation/ABI/testing/sysfs-bus-pci#L344-L355\n",
      "2024-04-11 18:43:30.566897: I tensorflow/compiler/xla/stream_executor/cuda/cuda_gpu_executor.cc:894] successful NUMA node read from SysFS had negative value (-1), but there must be at least one NUMA node, so returning NUMA node zero. See more at https://github.com/torvalds/linux/blob/v6.0/Documentation/ABI/testing/sysfs-bus-pci#L344-L355\n",
      "2024-04-11 18:43:30.752141: I tensorflow/compiler/xla/stream_executor/cuda/cuda_gpu_executor.cc:894] successful NUMA node read from SysFS had negative value (-1), but there must be at least one NUMA node, so returning NUMA node zero. See more at https://github.com/torvalds/linux/blob/v6.0/Documentation/ABI/testing/sysfs-bus-pci#L344-L355\n",
      "2024-04-11 18:43:30.752307: I tensorflow/compiler/xla/stream_executor/cuda/cuda_gpu_executor.cc:894] successful NUMA node read from SysFS had negative value (-1), but there must be at least one NUMA node, so returning NUMA node zero. See more at https://github.com/torvalds/linux/blob/v6.0/Documentation/ABI/testing/sysfs-bus-pci#L344-L355\n",
      "2024-04-11 18:43:30.752452: I tensorflow/compiler/xla/stream_executor/cuda/cuda_gpu_executor.cc:894] successful NUMA node read from SysFS had negative value (-1), but there must be at least one NUMA node, so returning NUMA node zero. See more at https://github.com/torvalds/linux/blob/v6.0/Documentation/ABI/testing/sysfs-bus-pci#L344-L355\n",
      "2024-04-11 18:43:30.752572: I tensorflow/core/common_runtime/gpu/gpu_device.cc:1883] Created device /job:localhost/replica:0/task:0/device:GPU:0 with 7107 MB memory:  -> device: 0, name: GRID A100X-10C, pci bus id: 0000:04:00.0, compute capability: 8.0\n"
     ]
    }
   ],
   "source": [
    "model = keras.Sequential(\n",
    "    [\n",
    "        keras.Input(shape=(136, 136, 1)),\n",
    "        layers.Conv2D(12, kernel_size=(9, 9), activation=\"relu\"),\n",
    "        layers.Conv2D(24, kernel_size=(9, 9), activation=\"relu\"),\n",
    "        layers.AveragePooling2D(pool_size=(3, 3)),\n",
    "        layers.Conv2D(48, kernel_size=(9, 9), activation=\"relu\"),\n",
    "        layers.AveragePooling2D(pool_size=(3, 3)),\n",
    "        layers.Flatten(),\n",
    "        layers.Dense(num_classes, activation=\"softmax\"),\n",
    "    ]\n",
    ")\n",
    "\n",
    "model.summary()"
   ]
  },
  {
   "cell_type": "code",
   "execution_count": 7,
   "id": "36a5051e-1768-4ecb-b485-be613ab83fb4",
   "metadata": {},
   "outputs": [],
   "source": [
    "#stop training early if loss stablizes for 5 epochs\n",
    "stop_early = tf.keras.callbacks.EarlyStopping(monitor='val_loss', patience=5)\n",
    "\n",
    "#rotate/zoom into images to reduce overfitting\n",
    "datagen = ImageDataGenerator(rotation_range=55, zoom_range=[0.9,1.0], fill_mode=\"reflect\")"
   ]
  },
  {
   "cell_type": "code",
   "execution_count": 8,
   "id": "07d2cd50-f0dc-4c46-bbcd-e719223e5d79",
   "metadata": {},
   "outputs": [
    {
     "name": "stdout",
     "output_type": "stream",
     "text": [
      "Epoch 1/100\n"
     ]
    },
    {
     "name": "stderr",
     "output_type": "stream",
     "text": [
      "2024-04-11 18:43:31.941458: I tensorflow/compiler/xla/stream_executor/cuda/cuda_dnn.cc:442] Loaded cuDNN version 8907\n",
      "2024-04-11 18:43:32.332172: I tensorflow/compiler/xla/service/service.cc:168] XLA service 0x7efb2d135ec0 initialized for platform CUDA (this does not guarantee that XLA will be used). Devices:\n",
      "2024-04-11 18:43:32.332224: I tensorflow/compiler/xla/service/service.cc:176]   StreamExecutor device (0): GRID A100X-10C, Compute Capability 8.0\n",
      "2024-04-11 18:43:32.338230: I tensorflow/compiler/mlir/tensorflow/utils/dump_mlir_util.cc:269] disabling MLIR crash reproducer, set env var `MLIR_CRASH_REPRODUCER_DIRECTORY` to enable.\n",
      "2024-04-11 18:43:32.411351: I ./tensorflow/compiler/jit/device_compiler.h:186] Compiled cluster using XLA!  This line is logged at most once for the lifetime of the process.\n"
     ]
    },
    {
     "name": "stdout",
     "output_type": "stream",
     "text": [
      "55/55 [==============================] - 5s 43ms/step - loss: 0.9413 - accuracy: 0.6006 - val_loss: 1.1042 - val_accuracy: 0.4879\n",
      "Epoch 2/100\n",
      "55/55 [==============================] - 2s 33ms/step - loss: 0.7756 - accuracy: 0.6879 - val_loss: 0.7118 - val_accuracy: 0.7329\n",
      "Epoch 3/100\n",
      "55/55 [==============================] - 2s 35ms/step - loss: 0.6421 - accuracy: 0.7480 - val_loss: 0.4744 - val_accuracy: 0.8102\n",
      "Epoch 4/100\n",
      "55/55 [==============================] - 2s 30ms/step - loss: 0.6133 - accuracy: 0.7590 - val_loss: 0.4568 - val_accuracy: 0.8168\n",
      "Epoch 5/100\n",
      "55/55 [==============================] - 2s 29ms/step - loss: 0.4881 - accuracy: 0.8035 - val_loss: 0.5010 - val_accuracy: 0.7969\n",
      "Epoch 6/100\n",
      "55/55 [==============================] - 2s 33ms/step - loss: 0.4097 - accuracy: 0.8416 - val_loss: 0.4006 - val_accuracy: 0.8344\n",
      "Epoch 7/100\n",
      "55/55 [==============================] - 2s 30ms/step - loss: 0.3909 - accuracy: 0.8399 - val_loss: 0.4556 - val_accuracy: 0.8190\n",
      "Epoch 8/100\n",
      "55/55 [==============================] - 2s 32ms/step - loss: 0.3714 - accuracy: 0.8538 - val_loss: 0.3712 - val_accuracy: 0.8675\n",
      "Epoch 9/100\n",
      "55/55 [==============================] - 2s 32ms/step - loss: 0.3505 - accuracy: 0.8555 - val_loss: 0.3106 - val_accuracy: 0.8808\n",
      "Epoch 10/100\n",
      "55/55 [==============================] - 2s 29ms/step - loss: 0.3229 - accuracy: 0.8792 - val_loss: 0.4706 - val_accuracy: 0.7991\n",
      "Epoch 11/100\n",
      "55/55 [==============================] - 2s 31ms/step - loss: 0.2624 - accuracy: 0.8919 - val_loss: 0.2991 - val_accuracy: 0.8940\n",
      "Epoch 12/100\n",
      "55/55 [==============================] - 2s 29ms/step - loss: 0.2519 - accuracy: 0.9069 - val_loss: 0.3678 - val_accuracy: 0.8786\n",
      "Epoch 13/100\n",
      "55/55 [==============================] - 2s 30ms/step - loss: 0.2264 - accuracy: 0.9191 - val_loss: 0.3436 - val_accuracy: 0.8896\n",
      "Epoch 14/100\n",
      "55/55 [==============================] - 2s 31ms/step - loss: 0.2188 - accuracy: 0.9145 - val_loss: 0.2834 - val_accuracy: 0.8918\n",
      "Epoch 15/100\n",
      "55/55 [==============================] - 2s 32ms/step - loss: 0.1933 - accuracy: 0.9202 - val_loss: 0.2432 - val_accuracy: 0.9205\n",
      "Epoch 16/100\n",
      "55/55 [==============================] - 2s 29ms/step - loss: 0.1876 - accuracy: 0.9312 - val_loss: 0.2608 - val_accuracy: 0.9139\n",
      "Epoch 17/100\n",
      " 1/55 [..............................] - ETA: 1s - loss: 0.0497 - accuracy: 1.0000"
     ]
    },
    {
     "name": "stderr",
     "output_type": "stream",
     "text": [
      "2024-04-11 18:44:05.375740: W tensorflow/core/framework/op_kernel.cc:1827] INVALID_ARGUMENT: TypeError: 'NoneType' object is not subscriptable\n",
      "Traceback (most recent call last):\n",
      "\n",
      "  File \"/usr/local/lib/python3.10/dist-packages/tensorflow/python/ops/script_ops.py\", line 270, in __call__\n",
      "    ret = func(*args)\n",
      "\n",
      "  File \"/usr/local/lib/python3.10/dist-packages/tensorflow/python/autograph/impl/api.py\", line 643, in wrapper\n",
      "    return func(*args, **kwargs)\n",
      "\n",
      "  File \"/usr/local/lib/python3.10/dist-packages/tensorflow/python/data/ops/from_generator_op.py\", line 198, in generator_py_func\n",
      "    values = next(generator_state.get_iterator(iterator_id))\n",
      "\n",
      "  File \"/usr/local/lib/python3.10/dist-packages/keras/src/engine/data_adapter.py\", line 917, in wrapped_generator\n",
      "    for data in generator_fn():\n",
      "\n",
      "  File \"/usr/local/lib/python3.10/dist-packages/keras/src/utils/data_utils.py\", line 871, in get\n",
      "    raise e\n",
      "\n",
      "  File \"/usr/local/lib/python3.10/dist-packages/keras/src/utils/data_utils.py\", line 862, in get\n",
      "    inputs = self.queue.get(block=True, timeout=5).get()\n",
      "\n",
      "  File \"/usr/lib/python3.10/multiprocessing/pool.py\", line 774, in get\n",
      "    raise self._value\n",
      "\n",
      "  File \"/usr/lib/python3.10/multiprocessing/pool.py\", line 125, in worker\n",
      "    result = (True, func(*args, **kwds))\n",
      "\n",
      "  File \"/usr/local/lib/python3.10/dist-packages/keras/src/utils/data_utils.py\", line 648, in get_index\n",
      "    return _SHARED_SEQUENCES[uid][i]\n",
      "\n",
      "TypeError: 'NoneType' object is not subscriptable\n",
      "\n",
      "\n"
     ]
    },
    {
     "name": "stdout",
     "output_type": "stream",
     "text": [
      "55/55 [==============================] - 2s 31ms/step - loss: 0.1945 - accuracy: 0.9283 - val_loss: 0.2691 - val_accuracy: 0.9095\n",
      "Epoch 18/100\n",
      "55/55 [==============================] - 2s 31ms/step - loss: 0.1567 - accuracy: 0.9416 - val_loss: 0.1887 - val_accuracy: 0.9316\n",
      "Epoch 19/100\n",
      "55/55 [==============================] - 2s 31ms/step - loss: 0.1779 - accuracy: 0.9295 - val_loss: 0.2357 - val_accuracy: 0.9249\n",
      "Epoch 20/100\n",
      "55/55 [==============================] - 2s 30ms/step - loss: 0.1645 - accuracy: 0.9318 - val_loss: 0.2347 - val_accuracy: 0.9227\n",
      "Epoch 21/100\n",
      "55/55 [==============================] - 2s 31ms/step - loss: 0.1427 - accuracy: 0.9462 - val_loss: 0.2472 - val_accuracy: 0.9095\n",
      "Epoch 22/100\n",
      "55/55 [==============================] - 2s 30ms/step - loss: 0.1465 - accuracy: 0.9468 - val_loss: 0.2370 - val_accuracy: 0.9095\n",
      "Epoch 23/100\n",
      "55/55 [==============================] - 2s 33ms/step - loss: 0.1697 - accuracy: 0.9382 - val_loss: 0.2135 - val_accuracy: 0.9205\n"
     ]
    }
   ],
   "source": [
    "model.compile(loss=\"categorical_crossentropy\", optimizer=keras.optimizers.Adam(learning_rate=1e-3), metrics=[\"accuracy\"])\n",
    "history = model.fit(datagen.flow(x_train, y_train, batch_size=32),\n",
    "                    epochs=100, validation_data=(x_val, y_val), workers=8, callbacks=[stop_early])\n"
   ]
  },
  {
   "cell_type": "markdown",
   "id": "328a4b39-be85-4b28-8579-3202afaf52c8",
   "metadata": {},
   "source": [
    "### Check Model Abilities "
   ]
  },
  {
   "cell_type": "code",
   "execution_count": 9,
   "id": "34b49e92-3b6b-491b-b20b-cfdcfc25c66f",
   "metadata": {},
   "outputs": [
    {
     "name": "stdout",
     "output_type": "stream",
     "text": [
      "Test loss: 0.20698924362659454\n",
      "Test accuracy: 0.9331103563308716\n"
     ]
    }
   ],
   "source": [
    "score = model.evaluate(x_test, y_test, verbose=0)\n",
    "print(\"Test loss:\", score[0])\n",
    "print(\"Test accuracy:\", score[1])"
   ]
  },
  {
   "cell_type": "code",
   "execution_count": 10,
   "id": "63f61216-bc87-4870-a16a-d6e1d0bda07f",
   "metadata": {},
   "outputs": [
    {
     "data": {
      "image/png": "[encoded data removed]",
      "text/plain": [
       "<Figure size 1000x600 with 1 Axes>"
      ]
     },
     "metadata": {},
     "output_type": "display_data"
    }
   ],
   "source": [
    "from matplotlib import pyplot as plt\n",
    "plt.rcParams['figure.figsize'] = 10, 6\n",
    "\n",
    "plt.plot(history.history['accuracy'])\n",
    "plt.plot(history.history['val_accuracy'])\n",
    "plt.title('model accuracy')\n",
    "plt.ylabel('accuracy')\n",
    "plt.xlabel('epoch')\n",
    "plt.legend(['train', 'val.'], loc='upper left')\n",
    "plt.show()"
   ]
  },
  {
   "cell_type": "code",
   "execution_count": 11,
   "id": "102b767c-d41f-4f5f-827e-ed940ef3af22",
   "metadata": {},
   "outputs": [
    {
     "name": "stdout",
     "output_type": "stream",
     "text": [
      "10/10 [==============================] - 0s 7ms/step\n",
      "Confusion Matrix\n",
      "[[ 79   4   0   0]\n",
      " [  3  61   2   4]\n",
      " [  0   3 127   4]\n",
      " [  0   0   0  12]]\n",
      "Classification Report\n",
      "              precision    recall  f1-score   support\n",
      "\n",
      "    Cellular       0.96      0.95      0.96        83\n",
      "  Mixed Mode       0.90      0.87      0.88        70\n",
      "      Linear       0.98      0.95      0.97       134\n",
      "       Other       0.60      1.00      0.75        12\n",
      "\n",
      "    accuracy                           0.93       299\n",
      "   macro avg       0.86      0.94      0.89       299\n",
      "weighted avg       0.94      0.93      0.94       299\n",
      "\n"
     ]
    },
    {
     "data": {
      "text/plain": [
       "<sklearn.metrics._plot.confusion_matrix.ConfusionMatrixDisplay at 0x7efbb0606350>"
      ]
     },
     "execution_count": 11,
     "metadata": {},
     "output_type": "execute_result"
    },
    {
     "data": {
      "image/png": "[encoded data removed]",
      "text/plain": [
       "<Figure size 1000x600 with 2 Axes>"
      ]
     },
     "metadata": {},
     "output_type": "display_data"
    }
   ],
   "source": [
    "from sklearn.metrics import classification_report, confusion_matrix, ConfusionMatrixDisplay\n",
    "\n",
    "y_pred = model.predict(x_test)\n",
    "y_pred = np.argmax(y_pred, axis=1)\n",
    "y_test_ = np.argmax(y_test, axis=1)\n",
    "\n",
    "print('Confusion Matrix')\n",
    "print(confusion_matrix(y_test_, y_pred))\n",
    "print('Classification Report')\n",
    "target_names = ['Cellular', 'Mixed Mode', 'Linear', 'Other']\n",
    "print(classification_report(y_test_, y_pred, target_names=target_names))\n",
    "\n",
    "disp = ConfusionMatrixDisplay(confusion_matrix=confusion_matrix(y_test_, y_pred), display_labels=target_names)\n",
    "disp.plot(cmap='Blues')"
   ]
  },
  {
   "cell_type": "code",
   "execution_count": 12,
   "id": "07b24a63-29cd-4a70-bff4-8a0300af48e3",
   "metadata": {},
   "outputs": [
    {
     "name": "stderr",
     "output_type": "stream",
     "text": [
      "/usr/local/lib/python3.10/dist-packages/keras/src/engine/training.py:3079: UserWarning: You are saving your model as an HDF5 file via `model.save()`. This file format is considered legacy. We recommend using instead the native Keras format, e.g. `model.save('my_model.keras')`.\n",
      "  saving_api.save_model(\n"
     ]
    }
   ],
   "source": [
    "#\n",
    "model.save(\"/share/jcorner_data/models/future_modes_v3.h5\")"
   ]
  },
  {
   "cell_type": "code",
   "execution_count": null,
   "id": "1296345a-99ac-4266-a8b9-863fdc4f25a4",
   "metadata": {},
   "outputs": [],
   "source": []
  }
 ],
 "metadata": {
  "kernelspec": {
   "display_name": "Python 3 (ipykernel)",
   "language": "python",
   "name": "python3"
  },
  "language_info": {
   "codemirror_mode": {
    "name": "ipython",
    "version": 3
   },
   "file_extension": ".py",
   "mimetype": "text/x-python",
   "name": "python",
   "nbconvert_exporter": "python",
   "pygments_lexer": "ipython3",
   "version": "3.10.12"
  }
 },
 "nbformat": 4,
 "nbformat_minor": 5
}
