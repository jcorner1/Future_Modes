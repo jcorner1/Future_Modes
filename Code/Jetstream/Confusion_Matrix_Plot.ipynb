{
 "cells": [
  {
   "cell_type": "markdown",
   "id": "1e249069-19ae-44d4-bb03-d6a9f3b035a1",
   "metadata": {},
   "source": [
    "# Create Confusion Matrix"
   ]
  },
  {
   "cell_type": "code",
   "execution_count": null,
   "id": "d3a867bb-9483-485c-bc4d-e9367ccde05c",
   "metadata": {},
   "outputs": [],
   "source": []
  },
  {
   "cell_type": "code",
   "execution_count": null,
   "id": "e5ce18ee-d3fb-40d9-89d6-f2f71568bf5f",
   "metadata": {},
   "outputs": [],
   "source": []
  },
  {
   "cell_type": "code",
   "execution_count": null,
   "id": "8eed8197-5895-4e23-952d-346b1cb01c2e",
   "metadata": {},
   "outputs": [],
   "source": []
  },
  {
   "cell_type": "code",
   "execution_count": null,
   "id": "47672920-d0c0-4a78-9a1e-c5c8c2ad1a74",
   "metadata": {},
   "outputs": [],
   "source": []
  }
 ],
 "metadata": {
  "kernelspec": {
   "display_name": "Python 3 (ipykernel)",
   "language": "python",
   "name": "python3"
  },
  "language_info": {
   "codemirror_mode": {
    "name": "ipython",
    "version": 3
   },
   "file_extension": ".py",
   "mimetype": "text/x-python",
   "name": "python",
   "nbconvert_exporter": "python",
   "pygments_lexer": "ipython3",
   "version": "3.10.12"
  }
 },
 "nbformat": 4,
 "nbformat_minor": 5
}
