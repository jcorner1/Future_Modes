{
 "cells": [
  {
   "cell_type": "markdown",
   "id": "3692c616-1968-4800-9698-7f6851d8227a",
   "metadata": {},
   "source": [
    "# Keras Tuner Testing\n",
    "Keras tuning helps create a better model using all the hyperparameters available. Examples used include https://www.tensorflow.org/tutorials/keras/keras_tuner and https://keras.io/keras_tuner/ "
   ]
  },
  {
   "cell_type": "code",
   "execution_count": 1,
   "id": "920365e6-a986-4041-9798-329e4cab85a6",
   "metadata": {},
   "outputs": [
    {
     "name": "stderr",
     "output_type": "stream",
     "text": [
      "2024-04-11 16:07:21.330947: E tensorflow/compiler/xla/stream_executor/cuda/cuda_dnn.cc:9360] Unable to register cuDNN factory: Attempting to register factory for plugin cuDNN when one has already been registered\n",
      "2024-04-11 16:07:21.331063: E tensorflow/compiler/xla/stream_executor/cuda/cuda_fft.cc:609] Unable to register cuFFT factory: Attempting to register factory for plugin cuFFT when one has already been registered\n",
      "2024-04-11 16:07:21.331125: E tensorflow/compiler/xla/stream_executor/cuda/cuda_blas.cc:1537] Unable to register cuBLAS factory: Attempting to register factory for plugin cuBLAS when one has already been registered\n",
      "2024-04-11 16:07:21.347299: I tensorflow/core/platform/cpu_feature_guard.cc:183] This TensorFlow binary is optimized to use available CPU instructions in performance-critical operations.\n",
      "To enable the following instructions: SSE3 SSE4.1 SSE4.2 AVX, in other operations, rebuild TensorFlow with the appropriate compiler flags.\n"
     ]
    }
   ],
   "source": [
    "import numpy as np\n",
    "import tensorflow as tf\n",
    "from tensorflow import keras\n",
    "from tensorflow.keras import layers\n",
    "import pickle\n",
    "import keras_tuner\n",
    "from tensorflow.keras.preprocessing.image import ImageDataGenerator"
   ]
  },
  {
   "cell_type": "markdown",
   "id": "2796af42-8902-4126-b075-181627bd1207",
   "metadata": {},
   "source": [
    "### Load the Data"
   ]
  },
  {
   "cell_type": "code",
   "execution_count": 2,
   "id": "9b8a0bc3-1ad7-4218-b0b3-9ba2295c741b",
   "metadata": {},
   "outputs": [],
   "source": [
    "#load the data\n",
    "with open(\"/share/jcorner_data/pkls/new_mode_svrimg/svrimg_new_mode_train.pkl\", \"rb\") as f:\n",
    "    (x_train, y_train) = pickle.load(f)\n",
    "\n",
    "with open(\"/share/jcorner_data/pkls/new_mode_svrimg/svrimg_new_mode_validation.pkl\", \"rb\") as f:\n",
    "    (x_val, y_val) = pickle.load(f)\n",
    "\n",
    "with open(\"/share/jcorner_data/pkls/new_mode_svrimg/svrimg_new_mode_test.pkl\", \"rb\") as f:\n",
    "    (x_test, y_test) = pickle.load(f)\n",
    "\n",
    "num_classes = 4\n",
    "input_shape = (136, 136, 1)"
   ]
  },
  {
   "cell_type": "code",
   "execution_count": 3,
   "id": "8c966d93-1585-4df8-8cc6-49fdfba459db",
   "metadata": {},
   "outputs": [
    {
     "name": "stdout",
     "output_type": "stream",
     "text": [
      "x_train shape: (1730, 136, 136, 1)\n",
      "1730 train samples\n",
      "453 validate samples\n",
      "299 test samples\n"
     ]
    }
   ],
   "source": [
    "#Normalize by 80 dBZ\n",
    "x_train = x_train.astype(\"float32\") / 80\n",
    "x_test = x_test.astype(\"float32\") / 80\n",
    "x_val = x_val.astype(\"float32\") / 80\n",
    "\n",
    "print(\"x_train shape:\", x_train.shape)\n",
    "print(x_train.shape[0], \"train samples\")\n",
    "print(x_val.shape[0], \"validate samples\")\n",
    "print(x_test.shape[0], \"test samples\")"
   ]
  },
  {
   "cell_type": "code",
   "execution_count": 4,
   "id": "ca752c0a-450a-4b6a-8bab-5a91c1c187b3",
   "metadata": {},
   "outputs": [],
   "source": [
    "#convert to useful information for keras\n",
    "y_train = keras.utils.to_categorical(y_train, num_classes)\n",
    "y_val = keras.utils.to_categorical(y_val, num_classes)\n",
    "y_test = keras.utils.to_categorical(y_test, num_classes)"
   ]
  },
  {
   "cell_type": "markdown",
   "id": "7fc8b558-0c82-40a1-9683-7fa5c54d52f0",
   "metadata": {},
   "source": [
    "### Keras Testing/Tuning"
   ]
  },
  {
   "cell_type": "code",
   "execution_count": 5,
   "id": "ad4d22a3-ccb2-407e-b023-bc42164e6c47",
   "metadata": {},
   "outputs": [],
   "source": [
    "def build_model(hp):\n",
    "\n",
    "    #create the model and add input shape\n",
    "    model = keras.Sequential()\n",
    "    model.add(keras.Input(shape=input_shape))\n",
    "    \n",
    "    #create hyperparameter search for kernel and Conv2D size\n",
    "    kern_size2d = hp.Int(\"Kernel Size\", min_value=3, max_value=9, step=2)\n",
    "    conv2d_size = hp.Int(\"Conv2D Size\", min_value=32, max_value=128, step=16)\n",
    "    model.add(layers.Conv2D(conv2d_size/4, kernel_size=(kern_size2d, kern_size2d), activation=\"relu\"))\n",
    "    model.add(layers.Conv2D(conv2d_size/2, kernel_size=(kern_size2d, kern_size2d), activation=\"relu\"))\n",
    "    \n",
    "    #create hyperparameter search for average pool size\n",
    "    avg_pool_size = hp.Int(\"Average Pool Size\", min_value=3, max_value=9, step=2)\n",
    "    model.add(layers.AveragePooling2D(pool_size=(avg_pool_size, avg_pool_size)))\n",
    "    \n",
    "    #add the rest of the model\n",
    "    model.add(layers.Conv2D(conv2d_size, kernel_size=(kern_size2d, kern_size2d), activation=\"relu\"))\n",
    "    model.add(layers.AveragePooling2D(pool_size=(avg_pool_size, avg_pool_size)))\n",
    "    model.add(layers.Flatten())\n",
    "    model.add(layers.Dense(num_classes, activation=\"softmax\"))\n",
    "    \n",
    "    #create hyperparameter search for learning rate\n",
    "    #Choose an optimal value from 0.01, 0.001, or 0.0001\n",
    "    hp_learning_rate = hp.Choice('learning rate', values=[1e-2, 1e-3, 1e-4])\n",
    "    \n",
    "    #compile the model\n",
    "    model.compile(optimizer=keras.optimizers.Adam(learning_rate=hp_learning_rate),\n",
    "                loss=\"categorical_crossentropy\",\n",
    "                metrics=['accuracy'])\n",
    "\n",
    "    return model"
   ]
  },
  {
   "cell_type": "code",
   "execution_count": 6,
   "id": "71eb75c7-a5ab-4120-9ed8-9762d8cb30c8",
   "metadata": {},
   "outputs": [
    {
     "name": "stderr",
     "output_type": "stream",
     "text": [
      "2024-04-11 16:07:24.095569: I tensorflow/compiler/xla/stream_executor/cuda/cuda_gpu_executor.cc:894] successful NUMA node read from SysFS had negative value (-1), but there must be at least one NUMA node, so returning NUMA node zero. See more at https://github.com/torvalds/linux/blob/v6.0/Documentation/ABI/testing/sysfs-bus-pci#L344-L355\n",
      "2024-04-11 16:07:24.102699: I tensorflow/compiler/xla/stream_executor/cuda/cuda_gpu_executor.cc:894] successful NUMA node read from SysFS had negative value (-1), but there must be at least one NUMA node, so returning NUMA node zero. See more at https://github.com/torvalds/linux/blob/v6.0/Documentation/ABI/testing/sysfs-bus-pci#L344-L355\n",
      "2024-04-11 16:07:24.102840: I tensorflow/compiler/xla/stream_executor/cuda/cuda_gpu_executor.cc:894] successful NUMA node read from SysFS had negative value (-1), but there must be at least one NUMA node, so returning NUMA node zero. See more at https://github.com/torvalds/linux/blob/v6.0/Documentation/ABI/testing/sysfs-bus-pci#L344-L355\n",
      "2024-04-11 16:07:24.103841: I tensorflow/compiler/xla/stream_executor/cuda/cuda_gpu_executor.cc:894] successful NUMA node read from SysFS had negative value (-1), but there must be at least one NUMA node, so returning NUMA node zero. See more at https://github.com/torvalds/linux/blob/v6.0/Documentation/ABI/testing/sysfs-bus-pci#L344-L355\n",
      "2024-04-11 16:07:24.103972: I tensorflow/compiler/xla/stream_executor/cuda/cuda_gpu_executor.cc:894] successful NUMA node read from SysFS had negative value (-1), but there must be at least one NUMA node, so returning NUMA node zero. See more at https://github.com/torvalds/linux/blob/v6.0/Documentation/ABI/testing/sysfs-bus-pci#L344-L355\n",
      "2024-04-11 16:07:24.104075: I tensorflow/compiler/xla/stream_executor/cuda/cuda_gpu_executor.cc:894] successful NUMA node read from SysFS had negative value (-1), but there must be at least one NUMA node, so returning NUMA node zero. See more at https://github.com/torvalds/linux/blob/v6.0/Documentation/ABI/testing/sysfs-bus-pci#L344-L355\n",
      "2024-04-11 16:07:24.261190: I tensorflow/compiler/xla/stream_executor/cuda/cuda_gpu_executor.cc:894] successful NUMA node read from SysFS had negative value (-1), but there must be at least one NUMA node, so returning NUMA node zero. See more at https://github.com/torvalds/linux/blob/v6.0/Documentation/ABI/testing/sysfs-bus-pci#L344-L355\n",
      "2024-04-11 16:07:24.261353: I tensorflow/compiler/xla/stream_executor/cuda/cuda_gpu_executor.cc:894] successful NUMA node read from SysFS had negative value (-1), but there must be at least one NUMA node, so returning NUMA node zero. See more at https://github.com/torvalds/linux/blob/v6.0/Documentation/ABI/testing/sysfs-bus-pci#L344-L355\n",
      "2024-04-11 16:07:24.261487: I tensorflow/compiler/xla/stream_executor/cuda/cuda_gpu_executor.cc:894] successful NUMA node read from SysFS had negative value (-1), but there must be at least one NUMA node, so returning NUMA node zero. See more at https://github.com/torvalds/linux/blob/v6.0/Documentation/ABI/testing/sysfs-bus-pci#L344-L355\n",
      "2024-04-11 16:07:24.261585: I tensorflow/core/common_runtime/gpu/gpu_device.cc:1883] Created device /job:localhost/replica:0/task:0/device:GPU:0 with 7107 MB memory:  -> device: 0, name: GRID A100X-10C, pci bus id: 0000:04:00.0, compute capability: 8.0\n"
     ]
    }
   ],
   "source": [
    "#create the tuner\n",
    "tuner = keras_tuner.RandomSearch(build_model,\n",
    "                     objective='val_accuracy',\n",
    "                     directory='/share/jcorner_data/tuning',\n",
    "                     project_name='New_Modes',\n",
    "                     max_trials=50)"
   ]
  },
  {
   "cell_type": "code",
   "execution_count": 7,
   "id": "cf0b1e4d-f264-456a-a1c2-c20073e7ce6f",
   "metadata": {},
   "outputs": [],
   "source": [
    "#stop training early if loss stablizes for 5 epochs\n",
    "stop_early = tf.keras.callbacks.EarlyStopping(monitor='val_loss', patience=5)\n",
    "\n",
    "#rotate/zoom into images to reduce overfitting\n",
    "datagen = ImageDataGenerator(rotation_range=55, zoom_range=[0.9,1.0], fill_mode=\"reflect\")"
   ]
  },
  {
   "cell_type": "code",
   "execution_count": 8,
   "id": "0f68306c-ae61-47bc-8857-e83dd1013433",
   "metadata": {},
   "outputs": [
    {
     "name": "stdout",
     "output_type": "stream",
     "text": [
      "Trial 50 Complete [00h 00m 14s]\n",
      "val_accuracy: 0.6490066051483154\n",
      "\n",
      "Best val_accuracy So Far: 0.9492273926734924\n",
      "Total elapsed time: 00h 33m 32s\n"
     ]
    }
   ],
   "source": [
    "#run the hyperparameter search\n",
    "tuner.search(datagen.flow(x_train, y_train, batch_size=32), epochs=100, validation_data=(x_val, y_val), callbacks=[stop_early])"
   ]
  },
  {
   "cell_type": "code",
   "execution_count": 9,
   "id": "ba12338d-b13d-4613-81a3-8a146e8e27d0",
   "metadata": {},
   "outputs": [
    {
     "name": "stdout",
     "output_type": "stream",
     "text": [
      "\n",
      "The hyperparameter search is complete. The optimal values are:\n",
      "Last Conv2D Layer .... 48 \n",
      "Kernel Size .......... 9\n",
      "Learning Rate ........ 0.001\n",
      "Pool Size .......... 3\n",
      "\n"
     ]
    }
   ],
   "source": [
    "# Get the optimal hyperparameters\n",
    "best_hps=tuner.get_best_hyperparameters(num_trials=1)[0]\n",
    "\n",
    "print(f\"\"\"\n",
    "The hyperparameter search is complete. The optimal values are:\n",
    "Last Conv2D Layer .... {best_hps.get('Conv2D Size')} \n",
    "Kernel Size .......... {best_hps.get('Kernel Size')}\n",
    "Learning Rate ........ {best_hps.get('learning rate')}\n",
    "Pool Size .......... {best_hps.get('Average Pool Size')}\n",
    "\"\"\")"
   ]
  },
  {
   "cell_type": "code",
   "execution_count": null,
   "id": "516b61c8-12d2-4c83-8374-e7228c09de45",
   "metadata": {},
   "outputs": [],
   "source": []
  },
  {
   "cell_type": "code",
   "execution_count": null,
   "id": "fa08c3d8-840d-4b09-b64a-212cb21e457f",
   "metadata": {},
   "outputs": [],
   "source": []
  }
 ],
 "metadata": {
  "kernelspec": {
   "display_name": "Python 3 (ipykernel)",
   "language": "python",
   "name": "python3"
  },
  "language_info": {
   "codemirror_mode": {
    "name": "ipython",
    "version": 3
   },
   "file_extension": ".py",
   "mimetype": "text/x-python",
   "name": "python",
   "nbconvert_exporter": "python",
   "pygments_lexer": "ipython3",
   "version": "3.10.12"
  }
 },
 "nbformat": 4,
 "nbformat_minor": 5
}
