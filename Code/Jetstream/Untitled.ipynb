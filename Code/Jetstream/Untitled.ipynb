{
 "cells": [
  {
   "cell_type": "code",
   "execution_count": 1,
   "id": "ca24a3fd-e5fc-4dab-a3d9-44961f6b2a06",
   "metadata": {},
   "outputs": [],
   "source": [
    "import glob \n",
    "import pandas as pd\n",
    "import numpy as np"
   ]
  },
  {
   "cell_type": "code",
   "execution_count": null,
   "id": "9539eab4-4eb7-4312-801d-50ce8bb8dc97",
   "metadata": {},
   "outputs": [],
   "source": []
  },
  {
   "cell_type": "code",
   "execution_count": 2,
   "id": "06d35c07-6f79-40c0-b690-d020220283ea",
   "metadata": {},
   "outputs": [
    {
     "name": "stdout",
     "output_type": "stream",
     "text": [
      "Epoch: HIST, Year: 1990, Diff: 0\n",
      "Epoch: HIST, Year: 1991, Diff: 1\n",
      "Epoch: HIST, Year: 1992, Diff: 1\n",
      "Epoch: HIST, Year: 1993, Diff: 1\n",
      "Epoch: HIST, Year: 1994, Diff: 0\n",
      "Epoch: HIST, Year: 1995, Diff: 1\n",
      "Epoch: HIST, Year: 1996, Diff: 1\n",
      "Epoch: HIST, Year: 1997, Diff: 0\n",
      "Epoch: HIST, Year: 1998, Diff: 0\n",
      "Epoch: HIST, Year: 1999, Diff: 1\n",
      "Epoch: HIST, Year: 2000, Diff: 0\n",
      "Epoch: HIST, Year: 2001, Diff: 0\n",
      "Epoch: HIST, Year: 2002, Diff: 0\n",
      "Epoch: HIST, Year: 2003, Diff: 1\n",
      "Epoch: HIST, Year: 2004, Diff: 0\n",
      "Epoch: HIST, Year: 2005, Diff: 2\n"
     ]
    }
   ],
   "source": [
    "for epoch in ['HIST']:\n",
    "    for year in np.arange(1990,2006,1):\n",
    "        og_df = pd.concat(map(pd.read_csv, glob.glob(f'/share/jcorner_data/csvs/{epoch}/*{year}*.csv')), ignore_index=True)\n",
    "        mode_df = pd.concat(map(pd.read_csv, glob.glob(f'/share/jcorner_data/csvs/modes/{epoch}/*{year}*{epoch}.csv')), ignore_index=True)\n",
    "        print(f'Epoch: {epoch}, Year: {year}, Diff: {len(og_df)-len(mode_df)}')"
   ]
  },
  {
   "cell_type": "code",
   "execution_count": 3,
   "id": "83b07e97-9a42-4c43-9761-5d272fb125f9",
   "metadata": {},
   "outputs": [
    {
     "name": "stdout",
     "output_type": "stream",
     "text": [
      "Epoch: MID4p5, Year: 2040, Diff: 0\n",
      "Epoch: MID4p5, Year: 2041, Diff: 0\n",
      "Epoch: MID4p5, Year: 2042, Diff: 0\n",
      "Epoch: MID4p5, Year: 2043, Diff: 0\n",
      "Epoch: MID4p5, Year: 2044, Diff: 0\n",
      "Epoch: MID4p5, Year: 2045, Diff: 0\n",
      "Epoch: MID4p5, Year: 2046, Diff: 0\n",
      "Epoch: MID4p5, Year: 2047, Diff: 0\n",
      "Epoch: MID4p5, Year: 2048, Diff: 0\n",
      "Epoch: MID4p5, Year: 2049, Diff: 0\n",
      "Epoch: MID4p5, Year: 2050, Diff: 0\n",
      "Epoch: MID4p5, Year: 2051, Diff: 0\n",
      "Epoch: MID4p5, Year: 2052, Diff: 1\n",
      "Epoch: MID4p5, Year: 2053, Diff: 0\n",
      "Epoch: MID4p5, Year: 2054, Diff: 1\n",
      "Epoch: MID4p5, Year: 2055, Diff: 0\n",
      "Epoch: MID8p5, Year: 2040, Diff: 0\n",
      "Epoch: MID8p5, Year: 2041, Diff: 1\n",
      "Epoch: MID8p5, Year: 2042, Diff: 0\n",
      "Epoch: MID8p5, Year: 2043, Diff: 0\n",
      "Epoch: MID8p5, Year: 2044, Diff: 1\n",
      "Epoch: MID8p5, Year: 2045, Diff: 0\n",
      "Epoch: MID8p5, Year: 2046, Diff: 0\n",
      "Epoch: MID8p5, Year: 2047, Diff: 0\n",
      "Epoch: MID8p5, Year: 2048, Diff: 0\n",
      "Epoch: MID8p5, Year: 2049, Diff: 0\n",
      "Epoch: MID8p5, Year: 2050, Diff: 0\n",
      "Epoch: MID8p5, Year: 2051, Diff: 1\n",
      "Epoch: MID8p5, Year: 2052, Diff: 0\n",
      "Epoch: MID8p5, Year: 2053, Diff: 0\n",
      "Epoch: MID8p5, Year: 2054, Diff: 1\n",
      "Epoch: MID8p5, Year: 2055, Diff: 0\n"
     ]
    }
   ],
   "source": [
    "for epoch in ['MID4p5', 'MID8p5']:\n",
    "    for year in np.arange(2040,2056,1):\n",
    "        og_df = pd.concat(map(pd.read_csv, glob.glob(f'/share/jcorner_data/csvs/{epoch}/*{year}*.csv')), ignore_index=True)\n",
    "        mode_df = pd.concat(map(pd.read_csv, glob.glob(f'/share/jcorner_data/csvs/modes/{epoch}/*{year}*{epoch}.csv')), ignore_index=True)\n",
    "        print(f'Epoch: {epoch}, Year: {year}, Diff: {len(og_df)-len(mode_df)}')"
   ]
  },
  {
   "cell_type": "code",
   "execution_count": 4,
   "id": "1eed90fc-f877-458c-a1b0-3627e4979f18",
   "metadata": {},
   "outputs": [
    {
     "name": "stdout",
     "output_type": "stream",
     "text": [
      "Epoch: END4p5, Year: 2085, Diff: 0\n",
      "Epoch: END4p5, Year: 2086, Diff: 0\n",
      "Epoch: END4p5, Year: 2087, Diff: 0\n",
      "Epoch: END4p5, Year: 2088, Diff: 0\n",
      "Epoch: END4p5, Year: 2089, Diff: 1\n",
      "Epoch: END4p5, Year: 2090, Diff: 0\n",
      "Epoch: END4p5, Year: 2091, Diff: 0\n",
      "Epoch: END4p5, Year: 2092, Diff: 0\n",
      "Epoch: END4p5, Year: 2093, Diff: 1\n",
      "Epoch: END4p5, Year: 2094, Diff: 0\n",
      "Epoch: END4p5, Year: 2095, Diff: 0\n",
      "Epoch: END4p5, Year: 2096, Diff: 0\n",
      "Epoch: END4p5, Year: 2097, Diff: 0\n",
      "Epoch: END4p5, Year: 2098, Diff: 0\n",
      "Epoch: END4p5, Year: 2099, Diff: 0\n",
      "Epoch: END4p5, Year: 2100, Diff: 1\n",
      "Epoch: END8p5, Year: 2085, Diff: 0\n",
      "Epoch: END8p5, Year: 2086, Diff: 0\n",
      "Epoch: END8p5, Year: 2087, Diff: 0\n",
      "Epoch: END8p5, Year: 2088, Diff: 0\n",
      "Epoch: END8p5, Year: 2089, Diff: 2\n",
      "Epoch: END8p5, Year: 2090, Diff: 2\n",
      "Epoch: END8p5, Year: 2091, Diff: 2\n",
      "Epoch: END8p5, Year: 2092, Diff: 2\n",
      "Epoch: END8p5, Year: 2093, Diff: 0\n",
      "Epoch: END8p5, Year: 2094, Diff: 0\n",
      "Epoch: END8p5, Year: 2095, Diff: 1\n",
      "Epoch: END8p5, Year: 2096, Diff: 0\n",
      "Epoch: END8p5, Year: 2097, Diff: 1\n",
      "Epoch: END8p5, Year: 2098, Diff: 0\n",
      "Epoch: END8p5, Year: 2099, Diff: 2\n",
      "Epoch: END8p5, Year: 2100, Diff: 0\n"
     ]
    }
   ],
   "source": [
    "for epoch in ['END4p5', 'END8p5']:\n",
    "    for year in np.arange(2085,2101,1):\n",
    "        og_df = pd.concat(map(pd.read_csv, glob.glob(f'/share/jcorner_data/csvs/{epoch}/*{year}*.csv')), ignore_index=True)\n",
    "        mode_df = pd.concat(map(pd.read_csv, glob.glob(f'/share/jcorner_data/csvs/modes/{epoch}/*{year}*{epoch}.csv')), ignore_index=True)\n",
    "        print(f'Epoch: {epoch}, Year: {year}, Diff: {len(og_df)-len(mode_df)}')"
   ]
  },
  {
   "cell_type": "code",
   "execution_count": null,
   "id": "ffff5b10-e718-4eb3-8a0f-845e7aec50b9",
   "metadata": {},
   "outputs": [],
   "source": []
  },
  {
   "cell_type": "code",
   "execution_count": null,
   "id": "1a2ec859-1477-4c36-9c47-291a4628c25e",
   "metadata": {},
   "outputs": [],
   "source": []
  }
 ],
 "metadata": {
  "kernelspec": {
   "display_name": "Python 3 (ipykernel)",
   "language": "python",
   "name": "python3"
  },
  "language_info": {
   "codemirror_mode": {
    "name": "ipython",
    "version": 3
   },
   "file_extension": ".py",
   "mimetype": "text/x-python",
   "name": "python",
   "nbconvert_exporter": "python",
   "pygments_lexer": "ipython3",
   "version": "3.10.12"
  }
 },
 "nbformat": 4,
 "nbformat_minor": 5
}
