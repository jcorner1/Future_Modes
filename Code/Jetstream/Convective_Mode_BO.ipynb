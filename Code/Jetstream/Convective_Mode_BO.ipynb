{
 "cells": [
  {
   "cell_type": "markdown",
   "id": "8728379e-3988-4e0f-8703-4989ded9249a",
   "metadata": {},
   "source": [
    "# Backwards Optimization for Convective Mode\n",
    "This notebook is created in collabartion with David Gagne, Kirsten Mayer, and Will Chapman and also some help with the following notebooks:\n",
    "\n",
    "Lagerquist, R., and D.J. Gagne II, 2019: \"Interpretation of deep learning for predicting thunderstorm rotation: Python tutorial\". https://github.com/djgagne/ams-ml-python-course/blob/master/module_4/ML_Short_Course_Module_4_Interpretation.ipynb.\n",
    "\n",
    "https://github.com/Unidata/users-workshop-2023/blob/main/3_wednesday/breakout_sessions/XAI/PredictENSO_BO.ipynb\n",
    "\n"
   ]
  },
  {
   "cell_type": "code",
   "execution_count": 1,
   "id": "885c6d36-c2fb-42a4-b518-0d02e71b27f8",
   "metadata": {},
   "outputs": [
    {
     "name": "stderr",
     "output_type": "stream",
     "text": [
      "2024-05-12 20:38:47.604854: I tensorflow/core/platform/cpu_feature_guard.cc:182] This TensorFlow binary is optimized to use available CPU instructions in performance-critical operations.\n",
      "To enable the following instructions: SSE4.1 SSE4.2 AVX AVX2 FMA, in other operations, rebuild TensorFlow with the appropriate compiler flags.\n"
     ]
    }
   ],
   "source": [
    "import xarray as xr\n",
    "import numpy as np\n",
    "import matplotlib.pyplot as plt\n",
    "import cartopy.crs as ccrs\n",
    "import matplotlib as mpl\n",
    "import copy\n",
    "import scipy\n",
    "\n",
    "import pickle\n",
    "\n",
    "\n",
    "import tensorflow as tf\n",
    "from tensorflow.keras.preprocessing.image import ImageDataGenerator\n",
    "tf.compat.v1.disable_eager_execution()\n",
    "from keras import backend as K\n",
    "import sys\n",
    "sys.setrecursionlimit(1500)\n",
    "\n",
    "# set seeds\n",
    "random_seed = 36\n",
    "np.random.seed(random_seed)\n",
    "tf.random.set_seed(int(random_seed))\n",
    "\n",
    "#nice figures\n",
    "mpl.rcParams['figure.facecolor'] = 'white'\n",
    "mpl.rcParams['figure.dpi']= 150\n",
    "mpl.rcParams['font.size'] = 12\n",
    "\n",
    "\n",
    "from tensorflow.keras.layers import Dense, Activation\n",
    "from tensorflow.keras import regularizers\n",
    "from tensorflow.keras import metrics\n",
    "from tensorflow.keras import optimizers\n",
    "from tensorflow.keras.models import Sequential\n",
    "\n",
    "\n",
    "#plotting with Cartopy. \n",
    "import cartopy\n",
    "import cartopy.crs as ccrs\n",
    "import cartopy.feature as cfeature\n",
    "import matplotlib.pyplot as plt\n",
    "import matplotlib.ticker as mticker\n",
    "from matplotlib import cm\n",
    "from matplotlib import rc\n",
    "from cartopy.mpl.gridliner import LONGITUDE_FORMATTER, LATITUDE_FORMATTER\n",
    "from cartopy.mpl.ticker import LongitudeFormatter, LatitudeFormatter\n",
    "\n",
    "import matplotlib as mpl\n",
    "import matplotlib.pyplot as plt\n",
    "from matplotlib.colors import ListedColormap\n",
    "from matplotlib import ticker\n",
    "\n",
    "import scipy as sp\n",
    "import scipy.ndimage"
   ]
  },
  {
   "cell_type": "code",
   "execution_count": 2,
   "id": "14fab7a9-f5de-413c-b1a1-eca69effa6a6",
   "metadata": {},
   "outputs": [],
   "source": [
    "def smooth_it(Patty):\n",
    "    sigma_y = 1.5\n",
    "    sigma_x = 1.5\n",
    "    sigma = [sigma_y, sigma_x]\n",
    "    y = sp.ndimage.gaussian_filter(Patty, sigma, mode='constant')\n",
    "    return y"
   ]
  },
  {
   "cell_type": "markdown",
   "id": "1eb0f1d1-c79d-40a1-83f6-68ae068c03fd",
   "metadata": {},
   "source": [
    "## Defintions for Backward Optimization"
   ]
  },
  {
   "cell_type": "code",
   "execution_count": 3,
   "id": "f6945730-8748-431c-a643-6874a7728132",
   "metadata": {},
   "outputs": [],
   "source": [
    "def _gradient_descent_for_bwo(\n",
    "        cnn_model_object, loss_tensor, init_function_or_matrices,\n",
    "        num_iterations, learning_rate):\n",
    "    \"\"\"Does gradient descent (the nitty-gritty part) for backwards optimization.\n",
    "\n",
    "    :param cnn_model_object: Trained instance of `keras.models.Model`.\n",
    "    :param loss_tensor: Keras tensor, defining the loss function to be\n",
    "        minimized.\n",
    "    :param init_function_or_matrices: Either a function or list of numpy arrays.\n",
    "\n",
    "    If function, will be used to initialize input matrices.  See\n",
    "    `create_gaussian_initializer` for an example.\n",
    "\n",
    "    If list of numpy arrays, these are the input matrices themselves.  Matrices\n",
    "    should be processed in the exact same way that training data were processed\n",
    "    (e.g., normalization method).  Matrices must also be in the same order as\n",
    "    training matrices, and the [q]th matrix in this list must have the same\n",
    "    shape as the [q]th training matrix.\n",
    "\n",
    "    :param num_iterations: Number of gradient-descent iterations (number of\n",
    "        times that the input matrices are adjusted).\n",
    "    :param learning_rate: Learning rate.  At each iteration, each input value x\n",
    "        will be decremented by `learning_rate * gradient`, where `gradient` is\n",
    "        the gradient of the loss function with respect to x.\n",
    "    :return: list_of_optimized_input_matrices: length-T list of optimized input\n",
    "        matrices (numpy arrays), where T = number of input tensors to the model.\n",
    "        If the input arg `init_function_or_matrices` is a list of numpy arrays\n",
    "        (rather than a function), `list_of_optimized_input_matrices` will have\n",
    "        the exact same shape, just with different values.\n",
    "    \"\"\"\n",
    "\n",
    "    if isinstance(cnn_model_object.input, list):\n",
    "        list_of_input_tensors = cnn_model_object.input\n",
    "    else:\n",
    "        list_of_input_tensors = [cnn_model_object.input]\n",
    "\n",
    "    num_input_tensors = len(list_of_input_tensors)\n",
    "    \n",
    "    print(loss_tensor)\n",
    "    print(list_of_input_tensors)\n",
    "        \n",
    "    list_of_gradient_tensors = tf.compat.v1.keras.backend.gradients(loss_tensor, list_of_input_tensors)     \n",
    "    \n",
    "    for i in range(num_input_tensors):\n",
    "        list_of_gradient_tensors[i] /= K.maximum(\n",
    "            K.sqrt(K.mean(list_of_gradient_tensors[i] ** 2)),\n",
    "            K.epsilon()\n",
    "        )\n",
    "\n",
    "    inputs_to_loss_and_gradients = K.function(\n",
    "        list_of_input_tensors + [K.learning_phase()],\n",
    "        ([loss_tensor] + list_of_gradient_tensors)\n",
    "    )\n",
    "\n",
    "    if isinstance(init_function_or_matrices, list):\n",
    "        list_of_optimized_input_matrices = copy.deepcopy(\n",
    "            init_function_or_matrices)\n",
    "    else:\n",
    "        list_of_optimized_input_matrices = [None] * num_input_tensors\n",
    "\n",
    "        for i in range(num_input_tensors):\n",
    "            these_dimensions = np.array(\n",
    "                [1] + list_of_input_tensors[i].get_shape().as_list()[1:],\n",
    "                dtype=int)\n",
    "\n",
    "            list_of_optimized_input_matrices[i] = init_function_or_matrices(\n",
    "                these_dimensions)\n",
    "\n",
    "    for j in range(num_iterations):\n",
    "        these_outputs = inputs_to_loss_and_gradients(\n",
    "            list_of_optimized_input_matrices + [0])\n",
    "\n",
    "        if np.mod(j, 1000) == 0:\n",
    "            print('Loss after {0:d} of {1:d} iterations: {2:.2e}'.format(\n",
    "                j, num_iterations, these_outputs[0]))\n",
    "\n",
    "        for i in range(num_input_tensors):\n",
    "            list_of_optimized_input_matrices[i] -= (\n",
    "                these_outputs[i + 1] * learning_rate)\n",
    "\n",
    "    print('Loss after {0:d} iterations: {1:.2e}'.format(\n",
    "        num_iterations, these_outputs[0]))\n",
    "    return list_of_optimized_input_matrices\n",
    "\n",
    "\n",
    "def bwo_for_class(\n",
    "        cnn_model_object, target_class, init_function_or_matrices,\n",
    "        num_iterations=4000,\n",
    "        learning_rate=0.00000001):\n",
    "    \"\"\"Does backwards optimization to maximize probability of target class.\n",
    "\n",
    "    :param cnn_model_object: Trained instance of `keras.models.Model`.\n",
    "    :param target_class: Synthetic input data will be created to maximize\n",
    "        probability of this class.\n",
    "    :param init_function_or_matrices: See doc for `_gradient_descent_for_bwo`.\n",
    "    :param num_iterations: Same.\n",
    "    :param learning_rate: Same.\n",
    "    :return: list_of_optimized_input_matrices: Same.\n",
    "    \"\"\"\n",
    "\n",
    "    target_class = int(np.round(target_class))\n",
    "    num_iterations = int(np.round(num_iterations))\n",
    "\n",
    "    assert target_class >= 0\n",
    "    assert num_iterations > 0\n",
    "    assert learning_rate > 0.\n",
    "    assert  learning_rate < 1.\n",
    "\n",
    "    num_output_neurons = (\n",
    "        cnn_model_object.layers[-1].output.get_shape().as_list()[-1]\n",
    "    )\n",
    "\n",
    "    if num_output_neurons == 1:\n",
    "        assert target_class <= 1\n",
    "\n",
    "        if target_class == 1:\n",
    "            loss_tensor = K.mean(\n",
    "                (cnn_model_object.layers[-1].output[..., 0] - 1) ** 2\n",
    "            )\n",
    "        else:\n",
    "            loss_tensor = K.mean(\n",
    "                cnn_model_object.layers[-1].output[..., 0] ** 2\n",
    "            )\n",
    "    else:\n",
    "        assert target_class < num_output_neurons\n",
    "\n",
    "        loss_tensor = K.mean(\n",
    "            (cnn_model_object.layers[-1].output[..., target_class] - 1) ** 2\n",
    "        )\n",
    "\n",
    "    return _gradient_descent_for_bwo(\n",
    "        cnn_model_object=cnn_model_object, loss_tensor=loss_tensor,\n",
    "        init_function_or_matrices=init_function_or_matrices,\n",
    "        num_iterations=num_iterations, learning_rate=learning_rate)"
   ]
  },
  {
   "cell_type": "markdown",
   "id": "ecb946eb-603c-4ef0-a2e2-60e0af651252",
   "metadata": {},
   "source": [
    "## Defintions for Radar Image"
   ]
  },
  {
   "cell_type": "code",
   "execution_count": 4,
   "id": "4e95ca6a-b1f9-471c-80db-ce6242118ed2",
   "metadata": {
    "tags": []
   },
   "outputs": [],
   "source": [
    "def radar_colormap():\n",
    "    r\"\"\"Returns an NWS colormap.\n",
    "    \n",
    "    Parameters\n",
    "    ----------\n",
    "        \n",
    "    Returns\n",
    "    -------\n",
    "    cmap: ListedColormap\n",
    "        NWS-like radar colormap.\n",
    "    \"\"\" \n",
    " \n",
    "    nws_reflectivity_colors = [\"#ffffff\",  # 0\n",
    "                               \"#04e9e7\",  # 5\n",
    "                               \"#019ff4\",  # 10\n",
    "                               \"#0300f4\",  # 15\n",
    "                               \"#02fd02\",  # 20\n",
    "                               \"#01c501\",  # 25\n",
    "                               \"#008e00\",  # 30\n",
    "                               \"#fdf802\",  # 35\n",
    "                               \"#e5bc00\",  # 40\n",
    "                               \"#fd9500\",  # 45\n",
    "                               \"#fd0000\",  # 50\n",
    "                               \"#d40000\",  # 55\n",
    "                               \"#bc0000\",  # 60\n",
    "                               \"#f800fd\",  # 65\n",
    "                               \"#9854c6\",  # 70\n",
    "                               \"#4B0082\",  # 75\n",
    "                               \"#000000\"]\n",
    "                                \n",
    "    cmap = ListedColormap(nws_reflectivity_colors)\n",
    "    \n",
    "    return cmap\n",
    "\n",
    "\n",
    "def draw_box_plot(ax, img, cbar_shrink=0.35):\n",
    "    r\"\"\"Creates a pre-packaged display for indidivual or summary\n",
    "    svrimg images.  Modifies an input axis.\n",
    "    \n",
    "    Parameters\n",
    "    ----------\n",
    "    ax: matplotlib.pyplot.axes.Axes\n",
    "        Modifiable matplotlib.pyplot axis.\n",
    "    img: (M, N) ndarray\n",
    "        SVRIMG radar image\n",
    "    cbar_shrink: numeric\n",
    "        Value between 0 - 1.  This will be replacedwith kwargs in \n",
    "        future for more customization. Default is 0.35.\n",
    "    Returns\n",
    "    -------\n",
    "    ax: matplotlib.pyplot.axes.Axes\n",
    "        Modified matplotlib.pyplot axis.\n",
    "    \"\"\" \n",
    "\n",
    "    cmap, norm = radar_norm()\n",
    "    mmp = ax.imshow(np.flipud(img), cmap=cmap, norm=norm)\n",
    "    #ax.arrow(125.5, 119, 0, -0.0001, head_width=10, head_length=15, fc='k', ec='k', zorder=10)\n",
    "    #ax.text(121, 130, \"N\", fontsize=35, zorder=10)\n",
    "    \n",
    "    #plt.colorbar(mmp, ax=ax, shrink=cbar_shrink, pad=0.01)\n",
    "    \n",
    "    return ax\n",
    "\n",
    "def radar_norm():\n",
    "    r\"\"\"Return a colormap and normalization that allow you to represent\n",
    "    radar data with colors every 5 dBZ that mimics the official NWS\n",
    "    radar images.\n",
    "    \n",
    "    Parameters\n",
    "    ----------\n",
    "        \n",
    "    Returns\n",
    "    -------\n",
    "    cmap: ListedColormap\n",
    "        NWS-like radar colormap.\n",
    "    norm: BoundaryNorm\n",
    "        Normalization for 5 dBZ levels (0-80).\n",
    "    \"\"\" \n",
    "\n",
    "    cmap = radar_colormap()\n",
    "    classes = np.array(list(range(0, 85, 5)))\n",
    "    norm = BoundaryNorm(classes, ncolors=cmap.N)    \n",
    "    \n",
    "    return cmap, norm"
   ]
  },
  {
   "cell_type": "markdown",
   "id": "d26757ba-e124-4597-9200-42a93b063d30",
   "metadata": {},
   "source": [
    "## Load the Data"
   ]
  },
  {
   "cell_type": "code",
   "execution_count": 5,
   "id": "930fabdb-08ae-4c93-9bef-47efacd86677",
   "metadata": {},
   "outputs": [
    {
     "name": "stdout",
     "output_type": "stream",
     "text": [
      "x_train shape: (4560, 136, 136, 1)\n",
      "4560 train samples\n",
      "309 validate samples\n",
      "920 test samples\n"
     ]
    }
   ],
   "source": [
    "#load the training/testing/validation datasets\n",
    "with open(\"/share/jcorner_data/pkls/1996_2011_train.pkl\", \"rb\") as f:\n",
    "    (x_train, y_train) = pickle.load(f)\n",
    "\n",
    "with open(\"/share/jcorner_data/pkls/2012_2013_validation.pkl\", \"rb\") as f:\n",
    "    (x_val, y_val) = pickle.load(f)\n",
    "\n",
    "with open(\"/share/jcorner_data/pkls/2014_2017_test.pkl\", \"rb\") as f:\n",
    "    (x_test, y_test) = pickle.load(f)\n",
    "\n",
    "#Normalize by 80 dBZ\n",
    "x_train = x_train.astype(\"float32\") / 80\n",
    "x_test = x_test.astype(\"float32\") / 80\n",
    "x_val = x_val.astype(\"float32\") / 80\n",
    "\n",
    "print(\"x_train shape:\", x_train.shape)\n",
    "print(x_train.shape[0], \"train samples\")\n",
    "print(x_val.shape[0], \"validate samples\")\n",
    "print(x_test.shape[0], \"test samples\")"
   ]
  },
  {
   "cell_type": "markdown",
   "id": "7c73c173-d3a6-4672-92a8-47e72b10a634",
   "metadata": {},
   "source": [
    "# Load the Model"
   ]
  },
  {
   "cell_type": "code",
   "execution_count": 6,
   "id": "bb16e54b-59d6-48a0-922e-760692277a40",
   "metadata": {
    "tags": []
   },
   "outputs": [
    {
     "name": "stderr",
     "output_type": "stream",
     "text": [
      "2024-05-12 20:38:51.497976: I tensorflow/compiler/mlir/mlir_graph_optimization_pass.cc:388] MLIR V1 optimization pass is not enabled\n",
      "2024-05-12 20:38:51.561420: W tensorflow/c/c_api.cc:305] Operation '{name:'conv2d_2/bias/Assign' id:69 op device:{requested: '', assigned: ''} def:{{{node conv2d_2/bias/Assign}} = AssignVariableOp[_has_manual_control_dependencies=true, dtype=DT_FLOAT, validate_shape=false](conv2d_2/bias, conv2d_2/bias/Initializer/zeros)}}' was changed by setting attribute after it was run by a session. This mutation will have no effect, and will trigger an error in the future. Either don't modify nodes after running them or create a new session.\n"
     ]
    }
   ],
   "source": [
    "model = tf.keras.models.load_model('/share/jcorner_data/models/future_modes_v2.h5')"
   ]
  },
  {
   "cell_type": "markdown",
   "id": "7c877bd9-33e9-4c8f-9b55-84e656fc6975",
   "metadata": {},
   "source": [
    "## Calculate Backward Optimization"
   ]
  },
  {
   "cell_type": "code",
   "execution_count": 7,
   "id": "1134c3a4-cdce-466f-99af-e85ef5a4595c",
   "metadata": {
    "tags": []
   },
   "outputs": [],
   "source": [
    "#create random init state data similar to input data \n",
    "init_state = np.random.random(size=x_train[0,:,:,:].shape)\n",
    "init_state = init_state/np.max(init_state)"
   ]
  },
  {
   "cell_type": "code",
   "execution_count": 8,
   "id": "7711f8df-574b-42b8-a557-04ba745ebc82",
   "metadata": {
    "tags": []
   },
   "outputs": [
    {
     "name": "stdout",
     "output_type": "stream",
     "text": [
      "Tensor(\"Mean:0\", shape=(), dtype=float32)\n",
      "[<tf.Tensor 'input_1:0' shape=(None, 136, 136, 1) dtype=float32>]\n",
      "Loss after 0 of 1 iterations: 7.81e-03\n",
      "Loss after 1 iterations: 7.81e-03\n"
     ]
    },
    {
     "name": "stderr",
     "output_type": "stream",
     "text": [
      "2024-05-12 20:38:52.150225: W tensorflow/c/c_api.cc:305] Operation '{name:'count/Assign' id:154 op device:{requested: '', assigned: ''} def:{{{node count/Assign}} = AssignVariableOp[_has_manual_control_dependencies=true, dtype=DT_FLOAT, validate_shape=false](count, count/Initializer/zeros)}}' was changed by setting attribute after it was run by a session. This mutation will have no effect, and will trigger an error in the future. Either don't modify nodes after running them or create a new session.\n"
     ]
    }
   ],
   "source": [
    "#call the backwards optimization defintion\n",
    "class_optimized_predictor_matrix_norm0 = bwo_for_class(\n",
    "    cnn_model_object=model, target_class=0,\n",
    "    init_function_or_matrices=[0*np.expand_dims(init_state, axis=0)],\n",
    "    num_iterations= 1,\n",
    "    learning_rate=0.1)"
   ]
  },
  {
   "cell_type": "code",
   "execution_count": 9,
   "id": "8befef7e-1d1c-49b6-bc54-37c24202aa37",
   "metadata": {
    "tags": []
   },
   "outputs": [
    {
     "name": "stdout",
     "output_type": "stream",
     "text": [
      "Tensor(\"Mean_2:0\", shape=(), dtype=float32)\n",
      "[<tf.Tensor 'input_1:0' shape=(None, 136, 136, 1) dtype=float32>]\n",
      "Loss after 0 of 1 iterations: 9.84e-01\n",
      "Loss after 1 iterations: 9.84e-01\n"
     ]
    }
   ],
   "source": [
    "#call the backwards optimization defintion\n",
    "class_optimized_predictor_matrix_norm1 = bwo_for_class(\n",
    "    cnn_model_object=model, target_class=1,\n",
    "    init_function_or_matrices=[0*np.expand_dims(init_state, axis=0)],\n",
    "    num_iterations= 1,\n",
    "    learning_rate=0.1)"
   ]
  },
  {
   "cell_type": "code",
   "execution_count": 10,
   "id": "ad766dee-8c18-447d-8c3f-0ff4945f11f6",
   "metadata": {},
   "outputs": [
    {
     "name": "stdout",
     "output_type": "stream",
     "text": [
      "Tensor(\"Mean_4:0\", shape=(), dtype=float32)\n",
      "[<tf.Tensor 'input_1:0' shape=(None, 136, 136, 1) dtype=float32>]\n",
      "Loss after 0 of 1 iterations: 9.99e-01\n",
      "Loss after 1 iterations: 9.99e-01\n"
     ]
    }
   ],
   "source": [
    "#call the backwards optimization defintion\n",
    "class_optimized_predictor_matrix_norm2 = bwo_for_class(\n",
    "    cnn_model_object=model, target_class=2,\n",
    "    init_function_or_matrices=[0*np.expand_dims(init_state, axis=0)],\n",
    "    num_iterations= 1,\n",
    "    learning_rate=0.1)"
   ]
  },
  {
   "cell_type": "code",
   "execution_count": 11,
   "id": "6b772708-a9ce-4ebf-8f7f-9c757884a4a8",
   "metadata": {},
   "outputs": [
    {
     "name": "stdout",
     "output_type": "stream",
     "text": [
      "Tensor(\"Mean_6:0\", shape=(), dtype=float32)\n",
      "[<tf.Tensor 'input_1:0' shape=(None, 136, 136, 1) dtype=float32>]\n",
      "Loss after 0 of 1 iterations: 8.46e-01\n",
      "Loss after 1 iterations: 8.46e-01\n"
     ]
    }
   ],
   "source": [
    "#call the backwards optimization defintion\n",
    "class_optimized_predictor_matrix_norm3 = bwo_for_class(\n",
    "    cnn_model_object=model, target_class=3,\n",
    "    init_function_or_matrices=[0*np.expand_dims(init_state, axis=0)],\n",
    "    num_iterations= 1,\n",
    "    learning_rate=0.1)"
   ]
  },
  {
   "cell_type": "markdown",
   "id": "79cf4265-c0a1-4c9b-a9ab-ea56b69e6894",
   "metadata": {},
   "source": [
    "## Plot the Results"
   ]
  },
  {
   "cell_type": "code",
   "execution_count": 12,
   "id": "267fb258-789e-40d4-a83b-8f50910a75ff",
   "metadata": {
    "tags": []
   },
   "outputs": [],
   "source": [
    "# Plot\n",
    "from matplotlib.colors import ListedColormap, BoundaryNorm\n",
    "import matplotlib.pyplot as plt\n",
    "%matplotlib inline\n",
    "\n",
    "#load a radarcolormap\n",
    "cmap = radar_colormap()\n",
    "classes = np.array(list(range(0, 85, 5)))\n",
    "norm = BoundaryNorm(classes, ncolors=cmap.N)\n",
    "\n",
    "lookup = ['Cellular','Multicell', 'Linear', 'Other']"
   ]
  },
  {
   "cell_type": "code",
   "execution_count": 17,
   "id": "b5f82458-f292-4e4d-970c-6fc50f2579c9",
   "metadata": {},
   "outputs": [
    {
     "data": {
      "image/png": "[encoded data removed]",
      "text/plain": [
       "<Figure size 1200x1200 with 4 Axes>"
      ]
     },
     "metadata": {},
     "output_type": "display_data"
    }
   ],
   "source": [
    "fig = plt.figure(figsize=(8,8))\n",
    "\n",
    "#iterate through each class\n",
    "for i in range(4):\n",
    "    ax = plt.subplot(2,2,i+1)\n",
    "    plt.tick_params(left = False, right = False , labelleft = False ,\n",
    "                labelbottom = False, bottom = False)\n",
    "\n",
    "    #reshape and smooth the current class of bwo data\n",
    "    bwo_map = locals()[f'class_optimized_predictor_matrix_norm{i}'][0].reshape(136,136)\n",
    "    #sample = np.flipud(smooth_it(bwo_map * 80))\n",
    "    sample = np.flipud(bwo_map * 80)\n",
    "    ax.annotate(f'{lookup[i]}', (0.03,0.05),fontsize=7, \n",
    "                        bbox=dict(boxstyle='round', facecolor='w', alpha=1), xycoords='axes fraction')\n",
    "\n",
    "    #plot the data\n",
    "    draw_box_plot(ax, sample.squeeze())\n",
    "plt.suptitle('Backward Optimization', size=20).set_weight('bold')\n",
    "plt.savefig('/home/jovyan/Future_Modes/Plots/bwo_plots.png', format='png', dpi=500, bbox_inches='tight')"
   ]
  },
  {
   "cell_type": "code",
   "execution_count": null,
   "id": "991928cd-58bf-47ff-b2ce-6c22f296dd14",
   "metadata": {},
   "outputs": [],
   "source": []
  }
 ],
 "metadata": {
  "kernelspec": {
   "display_name": "Python [conda env:unidata-cpu]",
   "language": "python",
   "name": "conda-env-unidata-cpu-py"
  },
  "language_info": {
   "codemirror_mode": {
    "name": "ipython",
    "version": 3
   },
   "file_extension": ".py",
   "mimetype": "text/x-python",
   "name": "python",
   "nbconvert_exporter": "python",
   "pygments_lexer": "ipython3",
   "version": "3.10.0"
  }
 },
 "nbformat": 4,
 "nbformat_minor": 5
}
