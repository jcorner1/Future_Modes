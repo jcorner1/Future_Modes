{
 "cells": [
  {
   "cell_type": "markdown",
   "id": "9792c5aa-0a51-4a55-9df1-83af16f14797",
   "metadata": {},
   "source": [
    "# UVV/DBZ Threshold Occurence Map"
   ]
  },
  {
   "cell_type": "code",
   "execution_count": 1,
   "id": "4c125078-c6cf-4909-9ad1-f228b0bbe169",
   "metadata": {},
   "outputs": [],
   "source": [
    "import pandas as pd\n",
    "import xarray as xr\n",
    "import glob\n",
    "import numpy as np\n",
    "from copy import deepcopy\n",
    "\n"
   ]
  },
  {
   "cell_type": "code",
   "execution_count": 2,
   "id": "bda5038f-2c6b-4530-8e38-aa519d1489d8",
   "metadata": {},
   "outputs": [],
   "source": [
    "df = pd.concat(map(pd.read_csv, glob.glob(f'/home/scratch/jcorner1/Thesis/future_modes/modes/HIST/*')), ignore_index=True)\n",
    "df['Time'] = pd.to_datetime(df['Time'])"
   ]
  },
  {
   "cell_type": "code",
   "execution_count": 3,
   "id": "bba8cd98-1847-4575-912e-aabf897c8b28",
   "metadata": {},
   "outputs": [],
   "source": [
    "geog = xr.open_dataset(\"/home/scratch/WRF_BCC/geography/geo_em.d01.nc\")\n",
    "uhs = []\n",
    "\n",
    "#iterate through the dataframes\n",
    "for did, day in df.resample('24h', origin='1990-10-01 12:00:00', on='Time'):\n",
    "\n",
    "    results = np.zeros(shape=(899, 1399))\n",
    "    results[day.y.values.astype(int), day.x.values.astype(int)] = 1\n",
    "    uh_uvv = deepcopy(geog)\n",
    "    uh_uvv = uh_uvv.assign_coords({'Time': np.array([did])})\n",
    "    uh_uvv = uh_uvv.assign(UVV_DAYS = (('Time', 'south_north', 'west_east'), np.expand_dims(results, axis=0)))\n",
    "    uh_uvv = uh_uvv[['CLAT', 'CLONG', 'UVV_DAYS']].coarsen(south_north=20, west_east=20, boundary='trim').mean()\n",
    "    uh_uvv['UVV_DAYS'] = 1*(uh_uvv['UVV_DAYS'] > 0)\n",
    "\n",
    "    uhs.append(uh_uvv)\n",
    "\n",
    "ds = xr.concat(uhs, dim='Time')\n"
   ]
  },
  {
   "cell_type": "code",
   "execution_count": null,
   "id": "80793a16-0545-42af-844c-d23eae44e151",
   "metadata": {},
   "outputs": [],
   "source": []
  },
  {
   "cell_type": "code",
   "execution_count": null,
   "id": "6033d3b7-faf3-4041-8d11-e5f29918b9dd",
   "metadata": {},
   "outputs": [],
   "source": []
  }
 ],
 "metadata": {
  "kernelspec": {
   "display_name": "Python [conda env:pyEAE]",
   "language": "python",
   "name": "conda-env-pyEAE-py"
  },
  "language_info": {
   "codemirror_mode": {
    "name": "ipython",
    "version": 3
   },
   "file_extension": ".py",
   "mimetype": "text/x-python",
   "name": "python",
   "nbconvert_exporter": "python",
   "pygments_lexer": "ipython3",
   "version": "3.9.13"
  }
 },
 "nbformat": 4,
 "nbformat_minor": 5
}
