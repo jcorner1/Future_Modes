{
 "cells": [
  {
   "cell_type": "markdown",
   "id": "6af94700-46b1-4cc6-b011-1f42fb58d276",
   "metadata": {},
   "source": [
    "# Convective Mode Occurences - Deltas - Linear Vs. Cellular Ratios"
   ]
  },
  {
   "cell_type": "code",
   "execution_count": 1,
   "id": "84c7e90f-fb27-46e1-9188-1f74ca53f03f",
   "metadata": {},
   "outputs": [],
   "source": [
    "import pandas as pd\n",
    "import xarray as xr\n",
    "import glob\n",
    "import numpy as np\n",
    "from copy import deepcopy"
   ]
  },
  {
   "cell_type": "markdown",
   "id": "f643c49f-3a29-4462-8027-68332382c370",
   "metadata": {},
   "source": [
    "## Load the Data"
   ]
  },
  {
   "cell_type": "code",
   "execution_count": 2,
   "id": "9366b891-cdce-44ae-86a3-c92edd74e1f9",
   "metadata": {},
   "outputs": [],
   "source": [
    "#iterate through the epochs\n",
    "epochs = ['HIST', 'MID4p5', 'MID8p5', 'END4p5', 'END8p5']\n",
    "\n",
    "for epoch in epochs:\n",
    "    \n",
    "    #load wrf-bcc dataframes\n",
    "    locals()[f'df_{epoch}'] = pd.concat(map(pd.read_csv, glob.glob(f'/home/scratch/jcorner1/Thesis/future_modes/modes/{epoch}/*')), ignore_index=True)\n",
    "    locals()[f'df_{epoch}']['Time'] = pd.to_datetime(locals()[f'df_{epoch}']['Time'])\n",
    "    locals()[f'df_{epoch}']['Month'] = pd.to_datetime( locals()[f'df_{epoch}']['Time']).dt.month"
   ]
  },
  {
   "cell_type": "markdown",
   "id": "76a3d21e-0b1d-4c0b-9e4b-b8e4580eb485",
   "metadata": {},
   "source": [
    "### Convert to Convective Days"
   ]
  },
  {
   "cell_type": "code",
   "execution_count": null,
   "id": "a1372825-7340-4ac5-8819-7c7f656b3f5c",
   "metadata": {},
   "outputs": [
    {
     "name": "stdout",
     "output_type": "stream",
     "text": [
      "HIST Cellular DJF\n",
      "HIST Cellular MAM\n"
     ]
    }
   ],
   "source": [
    "seasons = ['DJF', 'MAM', 'JJA', 'SON']\n",
    "modes = ['Cellular', 'Multicell', 'Linear', 'Other']\n",
    "\n",
    "#iterate through each epoch\n",
    "for epoch in epochs:\n",
    "    for mode in modes:\n",
    "        geog = xr.open_dataset(\"/home/scratch/WRF_BCC/geography/geo_em.d01.nc\")\n",
    "        df_wrf = locals()[f'df_{epoch}'][(locals()[f'df_{epoch}']['Mode'] == mode)]\n",
    "\n",
    "        for season in seasons:\n",
    "            print(epoch,mode, season)\n",
    "            if season == 'DJF':\n",
    "                df_seas = df_wrf[(df_wrf['Month'].isin([12,1,2]))]\n",
    "            elif season == 'MAM':\n",
    "                df_seas = df_wrf[(df_wrf['Month'].isin([3,4,5]))]\n",
    "            elif season == 'JJA':\n",
    "                df_seas = df_wrf[(df_wrf['Month'].isin([6,7,8]))]\n",
    "            elif season == 'SON':\n",
    "                df_seas = df_wrf[(df_wrf['Month'].isin([9,10,11]))]\n",
    "            uhs = []\n",
    "\n",
    "            #iterate through the dataframes\n",
    "            for did, day in df_seas.resample('24h', origin='1990-10-01 12:00:00', on='Time'):\n",
    "\n",
    "                results = np.zeros(shape=(899, 1399))\n",
    "                results[day.y.values.astype(int), day.x.values.astype(int)] = 1\n",
    "                uh_uvv = deepcopy(geog)\n",
    "                uh_uvv = uh_uvv.assign_coords({'Time': np.array([did])})\n",
    "                uh_uvv = uh_uvv.assign(UVV_DAYS = (('Time', 'south_north', 'west_east'), np.expand_dims(results, axis=0)))\n",
    "                uh_uvv = uh_uvv[['CLAT', 'CLONG', 'UVV_DAYS']].coarsen(south_north=20, west_east=20, boundary='trim').mean()\n",
    "                uh_uvv['UVV_DAYS'] = 1*(uh_uvv['UVV_DAYS'] > 0)\n",
    "\n",
    "                uhs.append(uh_uvv)\n",
    "\n",
    "            locals()[f'uhs_{epoch}_{season}_{mode}'] = xr.concat(uhs, dim='Time')\n",
    "\n",
    "            if epoch != 'HIST': \n",
    "                locals()[f'delta_{epoch}_{season}_{mode}'] = (np.sum(locals()[f'uhs_{epoch}_{season}_{mode}'].UVV_DAYS.values, axis=0) - np.sum(locals()[f'uhs_HIST_{season}_{mode}'].UVV_DAYS.values, axis=0)) / 15"
   ]
  },
  {
   "cell_type": "markdown",
   "id": "419f9e14-4be3-40fd-9ae7-a8d058682858",
   "metadata": {},
   "source": [
    "## Convective Mode Occurences"
   ]
  },
  {
   "cell_type": "code",
   "execution_count": null,
   "id": "e291cb3c-5c30-42c7-a972-116c6f7124f2",
   "metadata": {},
   "outputs": [],
   "source": []
  },
  {
   "cell_type": "markdown",
   "id": "dbeace60-c53f-4f4c-9422-6d903a03f018",
   "metadata": {},
   "source": [
    "## Convective Mode Deltas"
   ]
  },
  {
   "cell_type": "code",
   "execution_count": null,
   "id": "01abd24c-c674-41d7-87ee-743e386c2ff6",
   "metadata": {},
   "outputs": [],
   "source": []
  },
  {
   "cell_type": "markdown",
   "id": "af7028ed-813b-442c-8726-91474a8798a6",
   "metadata": {},
   "source": [
    "## Cellular Vs. Linear Ratios"
   ]
  },
  {
   "cell_type": "code",
   "execution_count": null,
   "id": "5ba86b0a-8e85-40c9-ab7d-0151edc9a3bd",
   "metadata": {},
   "outputs": [],
   "source": []
  }
 ],
 "metadata": {
  "kernelspec": {
   "display_name": "Python [conda env:pyEAE]",
   "language": "python",
   "name": "conda-env-pyEAE-py"
  },
  "language_info": {
   "codemirror_mode": {
    "name": "ipython",
    "version": 3
   },
   "file_extension": ".py",
   "mimetype": "text/x-python",
   "name": "python",
   "nbconvert_exporter": "python",
   "pygments_lexer": "ipython3",
   "version": "3.9.13"
  }
 },
 "nbformat": 4,
 "nbformat_minor": 5
}
