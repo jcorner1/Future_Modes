{
 "cells": [
  {
   "cell_type": "markdown",
   "id": "672a5118-72fd-48e7-8c87-9d7552a6031e",
   "metadata": {},
   "source": [
    "# Train Binary Model"
   ]
  },
  {
   "cell_type": "markdown",
   "id": "6fee097d-4daf-496a-987d-8b4a1d0afb04",
   "metadata": {},
   "source": [
    "## OG Data"
   ]
  },
  {
   "cell_type": "code",
   "execution_count": 1,
   "id": "19e9fa79-2082-43f1-bc1c-9df6a0e6205a",
   "metadata": {},
   "outputs": [
    {
     "name": "stdout",
     "output_type": "stream",
     "text": [
      "x_train shape: (4560, 136, 136, 1)\n",
      "4560 train samples\n",
      "309 validate samples\n",
      "920 test samples\n"
     ]
    }
   ],
   "source": [
    "#Based on examples from the Keras documentation\n",
    "import numpy as np\n",
    "np.random.seed(42)\n",
    "from tensorflow import keras\n",
    "from tensorflow.keras import layers\n",
    "from tensorflow.keras.preprocessing.image import ImageDataGenerator\n",
    "import pickle\n",
    "\n",
    "num_classes = 6\n",
    "input_shape = (136, 136, 1)\n",
    "\n",
    "with open(\"/share/jcorner_data/pkls/1996_2011_train.pkl\", \"rb\") as f:\n",
    "    (x_train, y_train) = pickle.load(f)\n",
    "\n",
    "with open(\"/share/jcorner_data/pkls/2012_2013_validation.pkl\", \"rb\") as f:\n",
    "    (x_val, y_val) = pickle.load(f)\n",
    "\n",
    "with open(\"/share/jcorner_data/pkls/2014_2017_test.pkl\", \"rb\") as f:\n",
    "    (x_test, y_test) = pickle.load(f)\n",
    "\n",
    "#Normalize by 80 dBZ\n",
    "x_train = x_train.astype(\"float32\") / 80\n",
    "x_test = x_test.astype(\"float32\") / 80\n",
    "x_val = x_val.astype(\"float32\") / 80\n",
    "\n",
    "print(\"x_train shape:\", x_train.shape)\n",
    "print(x_train.shape[0], \"train samples\")\n",
    "print(x_val.shape[0], \"validate samples\")\n",
    "print(x_test.shape[0], \"test samples\")\n",
    "\n",
    "y_train = keras.utils.to_categorical(y_train, num_classes)\n",
    "y_val = keras.utils.to_categorical(y_val, num_classes)\n",
    "y_test = keras.utils.to_categorical(y_test, num_classes)"
   ]
  },
  {
   "cell_type": "code",
   "execution_count": null,
   "id": "0ffbae6f-9ff3-40bf-b1ff-f88866f65a47",
   "metadata": {},
   "outputs": [],
   "source": []
  },
  {
   "cell_type": "code",
   "execution_count": 2,
   "id": "cb5bdace-c98b-4bf2-91ac-b85dddd9f10a",
   "metadata": {},
   "outputs": [],
   "source": [
    "types = ['test', 'train', 'val']\n",
    "\n",
    "#\n",
    "for type in types:\n",
    "    image_data = []\n",
    "    image_label = []\n",
    "    \n",
    "    #\n",
    "    for i in range(len(locals()[f'y_{type}'])):\n",
    "    \n",
    "        #\n",
    "        if locals()[f'y_{type}'][i][0] == 1 or locals()[f'y_{type}'][i][4] == 1:\n",
    "            image_data.append(locals()[f'x_{type}'][i,:,:,:])\n",
    "            \n",
    "            #\n",
    "            if locals()[f'y_{type}'][i][0] == 1:\n",
    "                image_label.append([1., 0.])\n",
    "    \n",
    "            #\n",
    "            elif  locals()[f'y_{type}'][i][4] == 1:\n",
    "                image_label.append([0., 1.])\n",
    "    \n",
    "    #\n",
    "    locals()[f'x_{type}_bin'] = np.array(image_data)\n",
    "    locals()[f'y_{type}_bin'] = np.array(image_label)"
   ]
  },
  {
   "cell_type": "code",
   "execution_count": null,
   "id": "8ab602ec-82ff-428b-a423-81760ac629f6",
   "metadata": {},
   "outputs": [],
   "source": []
  },
  {
   "cell_type": "code",
   "execution_count": 3,
   "id": "ec375ae6-9490-43af-baed-f90bc6d66374",
   "metadata": {},
   "outputs": [
    {
     "name": "stdout",
     "output_type": "stream",
     "text": [
      "Model: \"sequential\"\n",
      "_________________________________________________________________\n",
      " Layer (type)                Output Shape              Param #   \n",
      "=================================================================\n",
      " conv2d (Conv2D)             (None, 132, 132, 32)      832       \n",
      "                                                                 \n",
      " conv2d_1 (Conv2D)           (None, 128, 128, 64)      51264     \n",
      "                                                                 \n",
      " average_pooling2d (AverageP  (None, 64, 64, 64)       0         \n",
      " ooling2D)                                                       \n",
      "                                                                 \n",
      " conv2d_2 (Conv2D)           (None, 60, 60, 128)       204928    \n",
      "                                                                 \n",
      " average_pooling2d_1 (Averag  (None, 30, 30, 128)      0         \n",
      " ePooling2D)                                                     \n",
      "                                                                 \n",
      " dense (Dense)               (None, 30, 30, 16)        2064      \n",
      "                                                                 \n",
      " flatten (Flatten)           (None, 14400)             0         \n",
      "                                                                 \n",
      " dense_1 (Dense)             (None, 2)                 28802     \n",
      "                                                                 \n",
      "=================================================================\n",
      "Total params: 287,890\n",
      "Trainable params: 287,890\n",
      "Non-trainable params: 0\n",
      "_________________________________________________________________\n"
     ]
    },
    {
     "name": "stderr",
     "output_type": "stream",
     "text": [
      "2023-09-17 19:20:37.422306: I tensorflow/stream_executor/cuda/cuda_gpu_executor.cc:952] successful NUMA node read from SysFS had negative value (-1), but there must be at least one NUMA node, so returning NUMA node zero\n",
      "2023-09-17 19:20:37.430501: I tensorflow/stream_executor/cuda/cuda_gpu_executor.cc:952] successful NUMA node read from SysFS had negative value (-1), but there must be at least one NUMA node, so returning NUMA node zero\n",
      "2023-09-17 19:20:37.430650: I tensorflow/stream_executor/cuda/cuda_gpu_executor.cc:952] successful NUMA node read from SysFS had negative value (-1), but there must be at least one NUMA node, so returning NUMA node zero\n",
      "2023-09-17 19:20:37.431228: I tensorflow/core/platform/cpu_feature_guard.cc:152] This TensorFlow binary is optimized with oneAPI Deep Neural Network Library (oneDNN) to use the following CPU instructions in performance-critical operations:  SSE3 SSE4.1 SSE4.2 AVX\n",
      "To enable them in other operations, rebuild TensorFlow with the appropriate compiler flags.\n",
      "2023-09-17 19:20:37.431965: I tensorflow/stream_executor/cuda/cuda_gpu_executor.cc:952] successful NUMA node read from SysFS had negative value (-1), but there must be at least one NUMA node, so returning NUMA node zero\n",
      "2023-09-17 19:20:37.432121: I tensorflow/stream_executor/cuda/cuda_gpu_executor.cc:952] successful NUMA node read from SysFS had negative value (-1), but there must be at least one NUMA node, so returning NUMA node zero\n",
      "2023-09-17 19:20:37.432239: I tensorflow/stream_executor/cuda/cuda_gpu_executor.cc:952] successful NUMA node read from SysFS had negative value (-1), but there must be at least one NUMA node, so returning NUMA node zero\n",
      "2023-09-17 19:20:37.836368: I tensorflow/stream_executor/cuda/cuda_gpu_executor.cc:952] successful NUMA node read from SysFS had negative value (-1), but there must be at least one NUMA node, so returning NUMA node zero\n",
      "2023-09-17 19:20:37.836549: I tensorflow/stream_executor/cuda/cuda_gpu_executor.cc:952] successful NUMA node read from SysFS had negative value (-1), but there must be at least one NUMA node, so returning NUMA node zero\n",
      "2023-09-17 19:20:37.836675: I tensorflow/stream_executor/cuda/cuda_gpu_executor.cc:952] successful NUMA node read from SysFS had negative value (-1), but there must be at least one NUMA node, so returning NUMA node zero\n",
      "2023-09-17 19:20:37.836782: I tensorflow/core/common_runtime/gpu/gpu_device.cc:1525] Created device /job:localhost/replica:0/task:0/device:GPU:0 with 6969 MB memory:  -> device: 0, name: GRID A100X-10C, pci bus id: 0000:04:00.0, compute capability: 8.0\n"
     ]
    }
   ],
   "source": [
    "model = keras.Sequential(\n",
    "    [\n",
    "        keras.Input(shape=(136, 136, 1)),\n",
    "        layers.Conv2D(32, kernel_size=(5, 5), activation=\"relu\"),\n",
    "        layers.Conv2D(64, kernel_size=(5, 5), activation=\"relu\"),\n",
    "        layers.AveragePooling2D(pool_size=(2, 2)),\n",
    "        layers.Conv2D(128, kernel_size=(5, 5), activation=\"relu\"),\n",
    "        layers.AveragePooling2D(pool_size=(2, 2)),\n",
    "        layers.Dense(16, activation=\"relu\"),\n",
    "        layers.Flatten(),\n",
    "        layers.Dense(2, activation=\"softmax\"),\n",
    "    ]\n",
    ")\n",
    "\n",
    "model.summary()"
   ]
  },
  {
   "cell_type": "code",
   "execution_count": 4,
   "id": "d4173936-3f8c-488e-9820-b8ffd3eeaa3f",
   "metadata": {},
   "outputs": [],
   "source": [
    "datagen = ImageDataGenerator(rotation_range=55, zoom_range=[0.9,1.0], fill_mode=\"reflect\")"
   ]
  },
  {
   "cell_type": "code",
   "execution_count": 5,
   "id": "3128aa35-8924-4012-93c0-40f4251365f9",
   "metadata": {},
   "outputs": [
    {
     "name": "stdout",
     "output_type": "stream",
     "text": [
      "Epoch 1/10\n"
     ]
    },
    {
     "name": "stderr",
     "output_type": "stream",
     "text": [
      "2023-09-17 19:20:48.995257: I tensorflow/stream_executor/cuda/cuda_dnn.cc:379] Loaded cuDNN version 8500\n",
      "2023-09-17 19:20:49.470632: I tensorflow/stream_executor/cuda/cuda_blas.cc:1804] TensorFloat-32 will be used for the matrix multiplication. This will only be logged once.\n"
     ]
    },
    {
     "name": "stdout",
     "output_type": "stream",
     "text": [
      "35/35 [==============================] - 5s 62ms/step - loss: 0.2193 - accuracy: 0.8731 - val_loss: 0.0300 - val_accuracy: 0.9918\n",
      "Epoch 2/10\n",
      "35/35 [==============================] - 2s 44ms/step - loss: 0.0470 - accuracy: 0.9854 - val_loss: 0.0210 - val_accuracy: 0.9918\n",
      "Epoch 3/10\n",
      "35/35 [==============================] - 2s 48ms/step - loss: 0.0418 - accuracy: 0.9845 - val_loss: 0.0628 - val_accuracy: 0.9918\n",
      "Epoch 4/10\n",
      "35/35 [==============================] - 2s 44ms/step - loss: 0.0935 - accuracy: 0.9708 - val_loss: 0.0223 - val_accuracy: 1.0000\n",
      "Epoch 5/10\n",
      "35/35 [==============================] - 2s 43ms/step - loss: 0.0279 - accuracy: 0.9918 - val_loss: 0.0197 - val_accuracy: 0.9836\n",
      "Epoch 6/10\n",
      "35/35 [==============================] - 2s 44ms/step - loss: 0.0141 - accuracy: 0.9954 - val_loss: 0.0205 - val_accuracy: 0.9836\n",
      "Epoch 7/10\n",
      "35/35 [==============================] - 2s 44ms/step - loss: 0.0222 - accuracy: 0.9936 - val_loss: 0.0413 - val_accuracy: 0.9836\n",
      "Epoch 8/10\n",
      "35/35 [==============================] - 2s 52ms/step - loss: 0.0100 - accuracy: 0.9963 - val_loss: 0.0416 - val_accuracy: 0.9754\n",
      "Epoch 9/10\n",
      "35/35 [==============================] - 2s 44ms/step - loss: 0.0065 - accuracy: 0.9973 - val_loss: 0.0168 - val_accuracy: 0.9836\n",
      "Epoch 10/10\n",
      "35/35 [==============================] - 2s 45ms/step - loss: 0.0077 - accuracy: 0.9963 - val_loss: 0.0117 - val_accuracy: 1.0000\n"
     ]
    }
   ],
   "source": [
    "epochs = 10\n",
    "\n",
    "model.compile(loss=\"categorical_crossentropy\", optimizer=\"adam\", metrics=[\"accuracy\"])\n",
    "history = model.fit(datagen.flow(x_train_bin, y_train_bin, batch_size=32), epochs=epochs, validation_data=(x_val_bin, y_val_bin), workers=8)"
   ]
  },
  {
   "cell_type": "code",
   "execution_count": 6,
   "id": "3b540c1e-6338-42ae-ae84-42cf83ff86aa",
   "metadata": {},
   "outputs": [
    {
     "data": {
      "image/png": "[encoded data removed]",
      "text/plain": [
       "<Figure size 720x432 with 1 Axes>"
      ]
     },
     "metadata": {
      "needs_background": "light"
     },
     "output_type": "display_data"
    }
   ],
   "source": [
    "from matplotlib import pyplot as plt\n",
    "plt.rcParams['figure.figsize'] = 10, 6\n",
    "\n",
    "plt.plot(history.history['accuracy'])\n",
    "plt.plot(history.history['val_accuracy'])\n",
    "plt.title('model accuracy')\n",
    "plt.ylabel('accuracy')\n",
    "plt.xlabel('epoch')\n",
    "plt.legend(['train', 'val.'], loc='upper left')\n",
    "plt.show()"
   ]
  },
  {
   "cell_type": "code",
   "execution_count": 7,
   "id": "edc516be-bce7-4574-b884-85c1f05e4450",
   "metadata": {},
   "outputs": [
    {
     "name": "stdout",
     "output_type": "stream",
     "text": [
      "Test loss: 0.013886538334190845\n",
      "Test accuracy: 0.9930434823036194\n"
     ]
    }
   ],
   "source": [
    "score = model.evaluate(x_test_bin, y_test_bin, verbose=0)\n",
    "print(\"Test loss:\", score[0])\n",
    "print(\"Test accuracy:\", score[1])"
   ]
  },
  {
   "cell_type": "code",
   "execution_count": 8,
   "id": "e0002143-9b2b-4e59-98c3-e7bc47d3f07b",
   "metadata": {},
   "outputs": [],
   "source": [
    "#save the model\n",
    "#model.save(\"/share/jcorner_data/models/Two_Class_model_v01.h5\")"
   ]
  },
  {
   "cell_type": "markdown",
   "id": "c58aeaa9-7919-4708-928e-f4ebb3f2f90f",
   "metadata": {},
   "source": [
    "## Top Class Data"
   ]
  },
  {
   "cell_type": "code",
   "execution_count": 1,
   "id": "758ae7ee-9ff7-4298-a525-dd272af582ff",
   "metadata": {},
   "outputs": [
    {
     "name": "stdout",
     "output_type": "stream",
     "text": [
      "x_train shape: (3364, 136, 136, 1)\n",
      "3364 train samples\n",
      "277 validate samples\n",
      "463 test samples\n"
     ]
    }
   ],
   "source": [
    "#Based on examples from the Keras documentation\n",
    "import numpy as np\n",
    "np.random.seed(42)\n",
    "import tensorflow as tf\n",
    "from tensorflow import keras\n",
    "from tensorflow.keras import layers\n",
    "from tensorflow.keras.preprocessing.image import ImageDataGenerator\n",
    "import pickle\n",
    "\n",
    "num_classes = 5\n",
    "input_shape = (136, 136, 1)\n",
    "\n",
    "with open(\"/share/jcorner_data/gridrad/nexrad/nexradv2/2007_2014_train.pkl\", \"rb\") as f:\n",
    "    (x_train, y_train) = pickle.load(f)\n",
    "\n",
    "with open(\"/share/jcorner_data/gridrad/nexrad/nexradv2/2015_2015_validation.pkl\", \"rb\") as f:\n",
    "    (x_val, y_val) = pickle.load(f)\n",
    "\n",
    "with open(\"/share/jcorner_data/gridrad/nexrad/nexradv2/2016_2017_test.pkl\", \"rb\") as f:\n",
    "    (x_test, y_test) = pickle.load(f)\n",
    "\n",
    "#Normalize by 80 dBZ\n",
    "x_train = x_train.astype(\"float32\") / 80\n",
    "x_test = x_test.astype(\"float32\") / 80\n",
    "x_val = x_val.astype(\"float32\") / 80\n",
    "\n",
    "print(\"x_train shape:\", x_train.shape)\n",
    "print(x_train.shape[0], \"train samples\")\n",
    "print(x_val.shape[0], \"validate samples\")\n",
    "print(x_test.shape[0], \"test samples\")\n",
    "\n",
    "y_train = keras.utils.to_categorical(y_train, num_classes)\n",
    "y_val = keras.utils.to_categorical(y_val, num_classes)\n",
    "y_test = keras.utils.to_categorical(y_test, num_classes)\n",
    "\n"
   ]
  },
  {
   "cell_type": "code",
   "execution_count": 2,
   "id": "d5c305b3-c553-47a3-a24e-8e93b4d0bb53",
   "metadata": {},
   "outputs": [],
   "source": [
    "types = ['test', 'train', 'val']\n",
    "\n",
    "#\n",
    "for type in types:\n",
    "    image_data = []\n",
    "    image_label = []\n",
    "    \n",
    "    #\n",
    "    for i in range(len(locals()[f'y_{type}'])):\n",
    "    \n",
    "        #\n",
    "        if locals()[f'y_{type}'][i][1] == 1 or locals()[f'y_{type}'][i][3] == 1:\n",
    "            image_data.append(locals()[f'x_{type}'][i,:,:,:])\n",
    "            \n",
    "            #\n",
    "            if locals()[f'y_{type}'][i][1] == 1:\n",
    "                image_label.append([1., 0.])\n",
    "    \n",
    "            #\n",
    "            elif  locals()[f'y_{type}'][i][3] == 1:\n",
    "                image_label.append([0., 1.])\n",
    "    \n",
    "    #\n",
    "    locals()[f'x_{type}_bin'] = np.array(image_data)\n",
    "    locals()[f'y_{type}_bin'] = np.array(image_label)"
   ]
  },
  {
   "cell_type": "code",
   "execution_count": 3,
   "id": "6c1f1e9b-4c0b-443c-bc82-4c1b136d769f",
   "metadata": {},
   "outputs": [
    {
     "name": "stdout",
     "output_type": "stream",
     "text": [
      "Model: \"sequential\"\n",
      "_________________________________________________________________\n",
      " Layer (type)                Output Shape              Param #   \n",
      "=================================================================\n",
      " conv2d (Conv2D)             (None, 132, 132, 32)      832       \n",
      "                                                                 \n",
      " conv2d_1 (Conv2D)           (None, 128, 128, 64)      51264     \n",
      "                                                                 \n",
      " average_pooling2d (AverageP  (None, 64, 64, 64)       0         \n",
      " ooling2D)                                                       \n",
      "                                                                 \n",
      " conv2d_2 (Conv2D)           (None, 60, 60, 128)       204928    \n",
      "                                                                 \n",
      " average_pooling2d_1 (Averag  (None, 30, 30, 128)      0         \n",
      " ePooling2D)                                                     \n",
      "                                                                 \n",
      " dense (Dense)               (None, 30, 30, 32)        4128      \n",
      "                                                                 \n",
      " flatten (Flatten)           (None, 28800)             0         \n",
      "                                                                 \n",
      " dense_1 (Dense)             (None, 2)                 57602     \n",
      "                                                                 \n",
      "=================================================================\n",
      "Total params: 318,754\n",
      "Trainable params: 318,754\n",
      "Non-trainable params: 0\n",
      "_________________________________________________________________\n"
     ]
    },
    {
     "name": "stderr",
     "output_type": "stream",
     "text": [
      "2023-09-18 02:05:05.246319: I tensorflow/stream_executor/cuda/cuda_gpu_executor.cc:952] successful NUMA node read from SysFS had negative value (-1), but there must be at least one NUMA node, so returning NUMA node zero\n",
      "2023-09-18 02:05:05.253808: I tensorflow/stream_executor/cuda/cuda_gpu_executor.cc:952] successful NUMA node read from SysFS had negative value (-1), but there must be at least one NUMA node, so returning NUMA node zero\n",
      "2023-09-18 02:05:05.253978: I tensorflow/stream_executor/cuda/cuda_gpu_executor.cc:952] successful NUMA node read from SysFS had negative value (-1), but there must be at least one NUMA node, so returning NUMA node zero\n",
      "2023-09-18 02:05:05.254713: I tensorflow/core/platform/cpu_feature_guard.cc:152] This TensorFlow binary is optimized with oneAPI Deep Neural Network Library (oneDNN) to use the following CPU instructions in performance-critical operations:  SSE3 SSE4.1 SSE4.2 AVX\n",
      "To enable them in other operations, rebuild TensorFlow with the appropriate compiler flags.\n",
      "2023-09-18 02:05:05.255290: I tensorflow/stream_executor/cuda/cuda_gpu_executor.cc:952] successful NUMA node read from SysFS had negative value (-1), but there must be at least one NUMA node, so returning NUMA node zero\n",
      "2023-09-18 02:05:05.255428: I tensorflow/stream_executor/cuda/cuda_gpu_executor.cc:952] successful NUMA node read from SysFS had negative value (-1), but there must be at least one NUMA node, so returning NUMA node zero\n",
      "2023-09-18 02:05:05.255538: I tensorflow/stream_executor/cuda/cuda_gpu_executor.cc:952] successful NUMA node read from SysFS had negative value (-1), but there must be at least one NUMA node, so returning NUMA node zero\n",
      "2023-09-18 02:05:05.650274: I tensorflow/stream_executor/cuda/cuda_gpu_executor.cc:952] successful NUMA node read from SysFS had negative value (-1), but there must be at least one NUMA node, so returning NUMA node zero\n",
      "2023-09-18 02:05:05.650457: I tensorflow/stream_executor/cuda/cuda_gpu_executor.cc:952] successful NUMA node read from SysFS had negative value (-1), but there must be at least one NUMA node, so returning NUMA node zero\n",
      "2023-09-18 02:05:05.650579: I tensorflow/stream_executor/cuda/cuda_gpu_executor.cc:952] successful NUMA node read from SysFS had negative value (-1), but there must be at least one NUMA node, so returning NUMA node zero\n",
      "2023-09-18 02:05:05.650680: I tensorflow/core/common_runtime/gpu/gpu_device.cc:1525] Created device /job:localhost/replica:0/task:0/device:GPU:0 with 6969 MB memory:  -> device: 0, name: GRID A100X-10C, pci bus id: 0000:04:00.0, compute capability: 8.0\n"
     ]
    }
   ],
   "source": [
    "model = keras.Sequential(\n",
    "    [\n",
    "        keras.Input(shape=(136, 136, 1)),\n",
    "        layers.Conv2D(32, kernel_size=(5, 5), activation=\"relu\"),\n",
    "        layers.Conv2D(64, kernel_size=(5, 5), activation=\"relu\"),\n",
    "        layers.AveragePooling2D(pool_size=(2, 2)),\n",
    "        layers.Conv2D(128, kernel_size=(5, 5), activation=\"relu\"),\n",
    "        layers.AveragePooling2D(pool_size=(2, 2)),\n",
    "        layers.Dense(32, activation=\"relu\"),\n",
    "        layers.Flatten(),\n",
    "        layers.Dense(2, activation=\"softmax\"),\n",
    "    ]\n",
    ")\n",
    "\n",
    "model.summary()"
   ]
  },
  {
   "cell_type": "code",
   "execution_count": 4,
   "id": "a364a973-3be6-4cbc-9a89-6469c4ba5bd7",
   "metadata": {},
   "outputs": [],
   "source": [
    "datagen = ImageDataGenerator(zoom_range=[0.9,1.0], fill_mode=\"reflect\")"
   ]
  },
  {
   "cell_type": "code",
   "execution_count": 5,
   "id": "a24c0ac9-a4df-4cf6-a376-09c19f504487",
   "metadata": {},
   "outputs": [
    {
     "name": "stdout",
     "output_type": "stream",
     "text": [
      "Epoch 1/7\n"
     ]
    },
    {
     "name": "stderr",
     "output_type": "stream",
     "text": [
      "2023-09-18 02:05:08.191459: I tensorflow/stream_executor/cuda/cuda_dnn.cc:379] Loaded cuDNN version 8500\n",
      "2023-09-18 02:05:08.684762: I tensorflow/stream_executor/cuda/cuda_blas.cc:1804] TensorFloat-32 will be used for the matrix multiplication. This will only be logged once.\n"
     ]
    },
    {
     "name": "stdout",
     "output_type": "stream",
     "text": [
      "33/33 [==============================] - 6s 107ms/step - loss: 0.4317 - accuracy: 0.7905 - val_loss: 0.3238 - val_accuracy: 0.8955\n",
      "Epoch 2/7\n",
      "33/33 [==============================] - 3s 75ms/step - loss: 0.3461 - accuracy: 0.8466 - val_loss: 0.2467 - val_accuracy: 0.9303\n",
      "Epoch 3/7\n",
      "33/33 [==============================] - 3s 75ms/step - loss: 0.3011 - accuracy: 0.8675 - val_loss: 0.2178 - val_accuracy: 0.9254\n",
      "Epoch 4/7\n",
      "33/33 [==============================] - 3s 78ms/step - loss: 0.2625 - accuracy: 0.8808 - val_loss: 0.2374 - val_accuracy: 0.9154\n",
      "Epoch 5/7\n",
      "33/33 [==============================] - 3s 72ms/step - loss: 0.2368 - accuracy: 0.9078 - val_loss: 0.2864 - val_accuracy: 0.8607\n",
      "Epoch 6/7\n",
      "33/33 [==============================] - 3s 74ms/step - loss: 0.1972 - accuracy: 0.9173 - val_loss: 0.1821 - val_accuracy: 0.9303\n",
      "Epoch 7/7\n",
      "33/33 [==============================] - 3s 78ms/step - loss: 0.2307 - accuracy: 0.9059 - val_loss: 0.1901 - val_accuracy: 0.9303\n"
     ]
    }
   ],
   "source": [
    "epochs = 7\n",
    "\n",
    "model.compile(loss=\"categorical_crossentropy\", optimizer=\"adam\", metrics=[\"accuracy\"])\n",
    "history = model.fit(datagen.flow(x_train_bin, y_train_bin, batch_size=64), epochs=epochs, validation_data=(x_val_bin, y_val_bin), workers=8)"
   ]
  },
  {
   "cell_type": "code",
   "execution_count": 6,
   "id": "b77afedd-c88e-4745-b63f-c7aa6d881326",
   "metadata": {},
   "outputs": [
    {
     "data": {
      "image/png": "[encoded data removed]",
      "text/plain": [
       "<Figure size 720x432 with 1 Axes>"
      ]
     },
     "metadata": {
      "needs_background": "light"
     },
     "output_type": "display_data"
    }
   ],
   "source": [
    "from matplotlib import pyplot as plt\n",
    "plt.rcParams['figure.figsize'] = 10, 6\n",
    "\n",
    "plt.plot(history.history['accuracy'])\n",
    "plt.plot(history.history['val_accuracy'])\n",
    "plt.title('model accuracy')\n",
    "plt.ylabel('accuracy')\n",
    "plt.xlabel('epoch')\n",
    "plt.legend(['train', 'val.'], loc='upper left')\n",
    "plt.show()"
   ]
  },
  {
   "cell_type": "code",
   "execution_count": 7,
   "id": "c1f440c0-a6b5-4220-bee5-193488a633d5",
   "metadata": {},
   "outputs": [
    {
     "name": "stdout",
     "output_type": "stream",
     "text": [
      "Test loss: 0.23894822597503662\n",
      "Test accuracy: 0.9006849527359009\n"
     ]
    }
   ],
   "source": [
    "score = model.evaluate(x_test_bin, y_test_bin, verbose=0)\n",
    "print(\"Test loss:\", score[0])\n",
    "print(\"Test accuracy:\", score[1])"
   ]
  },
  {
   "cell_type": "code",
   "execution_count": 8,
   "id": "4bbf08ca-e188-4087-afe3-8c9912062208",
   "metadata": {},
   "outputs": [],
   "source": [
    "#save the model\n",
    "#model.save(\"/share/jcorner_data/models/Two_Class_model_v2.h5\")"
   ]
  },
  {
   "cell_type": "code",
   "execution_count": null,
   "id": "16f919ca-13b3-4fa9-9959-ead60541461c",
   "metadata": {},
   "outputs": [],
   "source": []
  }
 ],
 "metadata": {
  "kernelspec": {
   "display_name": "Python 3 (ipykernel)",
   "language": "python",
   "name": "python3"
  },
  "language_info": {
   "codemirror_mode": {
    "name": "ipython",
    "version": 3
   },
   "file_extension": ".py",
   "mimetype": "text/x-python",
   "name": "python",
   "nbconvert_exporter": "python",
   "pygments_lexer": "ipython3",
   "version": "3.10.9"
  }
 },
 "nbformat": 4,
 "nbformat_minor": 5
}
